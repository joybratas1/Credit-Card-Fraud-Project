{
  "nbformat": 4,
  "nbformat_minor": 0,
  "metadata": {
    "colab": {
      "name": "Untitled1.ipynb",
      "provenance": [],
      "authorship_tag": "ABX9TyP9GkQtxON/1ykk15H8LgJj",
      "include_colab_link": true
    },
    "kernelspec": {
      "name": "python3",
      "display_name": "Python 3"
    },
    "language_info": {
      "name": "python"
    }
  },
  "cells": [
    {
      "cell_type": "markdown",
      "metadata": {
        "id": "view-in-github",
        "colab_type": "text"
      },
      "source": [
        "<a href=\"https://colab.research.google.com/github/joybratas1/Credit-Card-Fraud-Project/blob/main/CCFraud_%20final.ipynb\" target=\"_parent\"><img src=\"https://colab.research.google.com/assets/colab-badge.svg\" alt=\"Open In Colab\"/></a>"
      ]
    },
    {
      "cell_type": "code",
      "metadata": {
        "id": "PK_X_jd6mAjZ"
      },
      "source": [
        "import pandas as pd\n",
        "import numpy as np\n",
        "import random\n",
        "import matplotlib.pyplot as plt\n",
        "from collections import Counter # counter takes values returns value_counts dictionary\n",
        "import seaborn as sns\n",
        "import plotly.express as px\n",
        "from plotly.offline import init_notebook_mode\n",
        "import os\n",
        "\n",
        "from numpy import hstack"
      ],
      "execution_count": 130,
      "outputs": []
    },
    {
      "cell_type": "code",
      "metadata": {
        "id": "E8RJyBxmDrKN"
      },
      "source": [
        "pip install opendatasets --upgrade --quiet"
      ],
      "execution_count": 2,
      "outputs": []
    },
    {
      "cell_type": "code",
      "metadata": {
        "colab": {
          "base_uri": "https://localhost:8080/"
        },
        "id": "_YYbFjfXDtX9",
        "outputId": "cad50e8c-5e6c-45fc-bfc3-c82314ba2943"
      },
      "source": [
        "import opendatasets as od\n",
        "url_l='https://www.kaggle.com/mlg-ulb/creditcardfraud'\n",
        "od.download(url_l)"
      ],
      "execution_count": 3,
      "outputs": [
        {
          "output_type": "stream",
          "text": [
            "Please provide your Kaggle credentials to download this dataset. Learn more: http://bit.ly/kaggle-creds\n",
            "Your Kaggle username: joybratasarkar\n",
            "Your Kaggle Key: ··········\n"
          ],
          "name": "stdout"
        },
        {
          "output_type": "stream",
          "text": [
            "  8%|▊         | 5.00M/66.0M [00:00<00:01, 47.9MB/s]"
          ],
          "name": "stderr"
        },
        {
          "output_type": "stream",
          "text": [
            "Downloading creditcardfraud.zip to ./creditcardfraud\n"
          ],
          "name": "stdout"
        },
        {
          "output_type": "stream",
          "text": [
            "100%|██████████| 66.0M/66.0M [00:00<00:00, 113MB/s] \n"
          ],
          "name": "stderr"
        },
        {
          "output_type": "stream",
          "text": [
            "\n"
          ],
          "name": "stdout"
        }
      ]
    },
    {
      "cell_type": "code",
      "metadata": {
        "colab": {
          "base_uri": "https://localhost:8080/"
        },
        "id": "Zyr3WA79DvB8",
        "outputId": "a122ecf9-488b-48bf-8325-16c627f8e716"
      },
      "source": [
        "file_name='/content/creditcardfraud/creditcard.csv'\n",
        "df= pd.read_csv(file_name)\n",
        "df.dataframeName = 'European Credit card Fraud data.csv'\n",
        "nRow, nCol = df.shape\n",
        "print('There are {} rows and {} columns in our Dataset'.format(nRow,nCol))"
      ],
      "execution_count": 4,
      "outputs": [
        {
          "output_type": "stream",
          "text": [
            "There are 284807 rows and 31 columns in our Dataset\n"
          ],
          "name": "stdout"
        }
      ]
    },
    {
      "cell_type": "code",
      "metadata": {
        "colab": {
          "base_uri": "https://localhost:8080/"
        },
        "id": "_aq90NTqDzbJ",
        "outputId": "c6cb6ed8-f08d-47e2-9f58-c465206dd8da"
      },
      "source": [
        "def reduce_memory(df):\n",
        "    \"\"\" iterate through all the columns of a dataframe and modify the data type\n",
        "        to reduce memory usage.        \n",
        "    \"\"\"\n",
        "    start_mem = df.memory_usage().sum() / 1024**2\n",
        "    print('Memory usage of dataframe is {:.2f} MB'.format(start_mem))\n",
        "    \n",
        "    for col in df.columns:\n",
        "        col_type = df[col].dtype\n",
        "        \n",
        "        if col_type != object:\n",
        "            c_min = df[col].min()\n",
        "            c_max = df[col].max()\n",
        "            if str(col_type)[:3] == 'int':\n",
        "                if c_min > np.iinfo(np.int8).min and c_max < np.iinfo(np.int8).max:\n",
        "                    df[col] = df[col].astype(np.int8)\n",
        "                elif c_min > np.iinfo(np.int16).min and c_max < np.iinfo(np.int16).max:\n",
        "                    df[col] = df[col].astype(np.int16)\n",
        "                elif c_min > np.iinfo(np.int32).min and c_max < np.iinfo(np.int32).max:\n",
        "                    df[col] = df[col].astype(np.int32)\n",
        "                elif c_min > np.iinfo(np.int64).min and c_max < np.iinfo(np.int64).max:\n",
        "                    df[col] = df[col].astype(np.int64)  \n",
        "            else:\n",
        "                if c_min > np.finfo(np.float16).min and c_max < np.finfo(np.float16).max:\n",
        "                    df[col] = df[col].astype(np.float16)\n",
        "                elif c_min > np.finfo(np.float32).min and c_max < np.finfo(np.float32).max:\n",
        "                    df[col] = df[col].astype(np.float32)\n",
        "                else:\n",
        "                    df[col] = df[col].astype(np.float64)\n",
        "        else:\n",
        "            df[col] = df[col].astype('category')\n",
        "\n",
        "    end_mem = df.memory_usage().sum() / 1024**2\n",
        "    print('Memory usage after optimization is: {:.2f} MB'.format(end_mem))\n",
        "    print('Decreased by {:.1f}%'.format(100 * (start_mem - end_mem) / start_mem))\n",
        "    \n",
        "    return df\n",
        "\n",
        "df = reduce_memory(df)"
      ],
      "execution_count": 5,
      "outputs": [
        {
          "output_type": "stream",
          "text": [
            "Memory usage of dataframe is 67.36 MB\n",
            "Memory usage after optimization is: 17.11 MB\n",
            "Decreased by 74.6%\n"
          ],
          "name": "stdout"
        }
      ]
    },
    {
      "cell_type": "code",
      "metadata": {
        "colab": {
          "base_uri": "https://localhost:8080/"
        },
        "id": "mNJsVG4ID2Vy",
        "outputId": "63e8505b-0199-4fea-9714-45ef663a0ce3"
      },
      "source": [
        "vc = df['Class'].value_counts().to_frame().reset_index()\n",
        "vc['percent'] = vc[\"Class\"].apply(lambda x : round(100*float(x) / len(df), 2))\n",
        "#vc = vc.rename(columns = {\"index\" : \"Target\", \"Class\" : \"Count\"})\n",
        "\n",
        "print('No Frauds Cases are ', round(df['Class'].value_counts()[0]/len(df) * 100,2), '% of the dataset i.e.', vc.iloc[0,1])\n",
        "print('Frauds Cases are', round(df['Class'].value_counts()[1]/len(df) * 100,2), '% of the dataset i.e.', vc.iloc[1,1])"
      ],
      "execution_count": 6,
      "outputs": [
        {
          "output_type": "stream",
          "text": [
            "No Frauds Cases are  99.83 % of the dataset i.e. 284315\n",
            "Frauds Cases are 0.17 % of the dataset i.e. 492\n"
          ],
          "name": "stdout"
        }
      ]
    },
    {
      "cell_type": "code",
      "metadata": {
        "id": "trFmDUE2D5u8"
      },
      "source": [
        "# Dropping the Time column\n",
        "df.drop('Time', axis=1, inplace=True)"
      ],
      "execution_count": 7,
      "outputs": []
    },
    {
      "cell_type": "code",
      "metadata": {
        "id": "2NRQNGNjD8eC"
      },
      "source": [
        "from sklearn.model_selection import train_test_split"
      ],
      "execution_count": 8,
      "outputs": []
    },
    {
      "cell_type": "code",
      "metadata": {
        "id": "yMrR6pw0D_Sm"
      },
      "source": [
        "y = df.Class\n",
        "X = df.drop('Class', axis=1)\n",
        "\n",
        "# setting up testing and training sets\n",
        "X_train, X_test, y_train, y_test = train_test_split(X, y, test_size=0.25, random_state=100,stratify=y)"
      ],
      "execution_count": 9,
      "outputs": []
    },
    {
      "cell_type": "code",
      "metadata": {
        "id": "RkvbX6wvEBQG"
      },
      "source": [
        "from sklearn.preprocessing import RobustScaler\n",
        "rob_scaler = RobustScaler()\n"
      ],
      "execution_count": 10,
      "outputs": []
    },
    {
      "cell_type": "code",
      "metadata": {
        "colab": {
          "base_uri": "https://localhost:8080/",
          "height": 573
        },
        "id": "ZFIGTibQEC8v",
        "outputId": "1b23b4b5-a4e5-46a6-ef22-0efa1451836c"
      },
      "source": [
        "X_train['Amount'] = rob_scaler.fit_transform(X_train['Amount'].values.reshape(-1,1))\n",
        "\n",
        "X_train"
      ],
      "execution_count": 11,
      "outputs": [
        {
          "output_type": "stream",
          "text": [
            "/usr/local/lib/python3.7/dist-packages/ipykernel_launcher.py:1: SettingWithCopyWarning:\n",
            "\n",
            "\n",
            "A value is trying to be set on a copy of a slice from a DataFrame.\n",
            "Try using .loc[row_indexer,col_indexer] = value instead\n",
            "\n",
            "See the caveats in the documentation: https://pandas.pydata.org/pandas-docs/stable/user_guide/indexing.html#returning-a-view-versus-a-copy\n",
            "\n"
          ],
          "name": "stderr"
        },
        {
          "output_type": "execute_result",
          "data": {
            "text/html": [
              "<div>\n",
              "<style scoped>\n",
              "    .dataframe tbody tr th:only-of-type {\n",
              "        vertical-align: middle;\n",
              "    }\n",
              "\n",
              "    .dataframe tbody tr th {\n",
              "        vertical-align: top;\n",
              "    }\n",
              "\n",
              "    .dataframe thead th {\n",
              "        text-align: right;\n",
              "    }\n",
              "</style>\n",
              "<table border=\"1\" class=\"dataframe\">\n",
              "  <thead>\n",
              "    <tr style=\"text-align: right;\">\n",
              "      <th></th>\n",
              "      <th>V1</th>\n",
              "      <th>V2</th>\n",
              "      <th>V3</th>\n",
              "      <th>V4</th>\n",
              "      <th>V5</th>\n",
              "      <th>V6</th>\n",
              "      <th>V7</th>\n",
              "      <th>V8</th>\n",
              "      <th>V9</th>\n",
              "      <th>V10</th>\n",
              "      <th>V11</th>\n",
              "      <th>V12</th>\n",
              "      <th>V13</th>\n",
              "      <th>V14</th>\n",
              "      <th>V15</th>\n",
              "      <th>V16</th>\n",
              "      <th>V17</th>\n",
              "      <th>V18</th>\n",
              "      <th>V19</th>\n",
              "      <th>V20</th>\n",
              "      <th>V21</th>\n",
              "      <th>V22</th>\n",
              "      <th>V23</th>\n",
              "      <th>V24</th>\n",
              "      <th>V25</th>\n",
              "      <th>V26</th>\n",
              "      <th>V27</th>\n",
              "      <th>V28</th>\n",
              "      <th>Amount</th>\n",
              "    </tr>\n",
              "  </thead>\n",
              "  <tbody>\n",
              "    <tr>\n",
              "      <th>276544</th>\n",
              "      <td>2.019531</td>\n",
              "      <td>-0.099060</td>\n",
              "      <td>-1.123047</td>\n",
              "      <td>0.461670</td>\n",
              "      <td>-0.167358</td>\n",
              "      <td>-1.240234</td>\n",
              "      <td>0.219849</td>\n",
              "      <td>-0.311279</td>\n",
              "      <td>0.829590</td>\n",
              "      <td>-0.090515</td>\n",
              "      <td>-0.836426</td>\n",
              "      <td>0.263184</td>\n",
              "      <td>-0.536133</td>\n",
              "      <td>0.456299</td>\n",
              "      <td>0.231689</td>\n",
              "      <td>-0.322021</td>\n",
              "      <td>-0.268066</td>\n",
              "      <td>-0.595703</td>\n",
              "      <td>0.176147</td>\n",
              "      <td>-0.260010</td>\n",
              "      <td>-0.253662</td>\n",
              "      <td>-0.625488</td>\n",
              "      <td>0.289551</td>\n",
              "      <td>-0.001698</td>\n",
              "      <td>-0.139893</td>\n",
              "      <td>-0.585938</td>\n",
              "      <td>-0.016449</td>\n",
              "      <td>-0.048065</td>\n",
              "      <td>-0.071716</td>\n",
              "    </tr>\n",
              "    <tr>\n",
              "      <th>168089</th>\n",
              "      <td>-0.815918</td>\n",
              "      <td>-0.408203</td>\n",
              "      <td>-1.699219</td>\n",
              "      <td>-0.622070</td>\n",
              "      <td>0.273438</td>\n",
              "      <td>-0.498535</td>\n",
              "      <td>3.472656</td>\n",
              "      <td>-0.622559</td>\n",
              "      <td>-1.340820</td>\n",
              "      <td>-0.738281</td>\n",
              "      <td>0.343750</td>\n",
              "      <td>0.307129</td>\n",
              "      <td>-0.033081</td>\n",
              "      <td>0.944336</td>\n",
              "      <td>-1.416992</td>\n",
              "      <td>-0.429688</td>\n",
              "      <td>-0.626465</td>\n",
              "      <td>0.209351</td>\n",
              "      <td>0.271973</td>\n",
              "      <td>0.940430</td>\n",
              "      <td>0.718750</td>\n",
              "      <td>1.292969</td>\n",
              "      <td>0.696289</td>\n",
              "      <td>-0.340088</td>\n",
              "      <td>0.153442</td>\n",
              "      <td>0.866699</td>\n",
              "      <td>-0.099182</td>\n",
              "      <td>0.199829</td>\n",
              "      <td>6.621094</td>\n",
              "    </tr>\n",
              "    <tr>\n",
              "      <th>91651</th>\n",
              "      <td>-1.185547</td>\n",
              "      <td>1.182617</td>\n",
              "      <td>1.567383</td>\n",
              "      <td>-0.001388</td>\n",
              "      <td>-0.005512</td>\n",
              "      <td>-0.770508</td>\n",
              "      <td>0.738281</td>\n",
              "      <td>-0.090759</td>\n",
              "      <td>-0.246582</td>\n",
              "      <td>0.231323</td>\n",
              "      <td>0.611328</td>\n",
              "      <td>0.958984</td>\n",
              "      <td>1.365234</td>\n",
              "      <td>-0.294678</td>\n",
              "      <td>0.969238</td>\n",
              "      <td>-0.375000</td>\n",
              "      <td>-0.064758</td>\n",
              "      <td>-1.189453</td>\n",
              "      <td>-0.559082</td>\n",
              "      <td>0.210815</td>\n",
              "      <td>-0.252686</td>\n",
              "      <td>-0.234619</td>\n",
              "      <td>0.166748</td>\n",
              "      <td>0.623535</td>\n",
              "      <td>-0.245361</td>\n",
              "      <td>0.008331</td>\n",
              "      <td>-0.141479</td>\n",
              "      <td>-0.355225</td>\n",
              "      <td>-0.141235</td>\n",
              "    </tr>\n",
              "    <tr>\n",
              "      <th>258071</th>\n",
              "      <td>1.817383</td>\n",
              "      <td>-0.727539</td>\n",
              "      <td>-0.291504</td>\n",
              "      <td>0.459473</td>\n",
              "      <td>-0.895996</td>\n",
              "      <td>-0.273438</td>\n",
              "      <td>-0.683594</td>\n",
              "      <td>0.106567</td>\n",
              "      <td>1.052734</td>\n",
              "      <td>0.166870</td>\n",
              "      <td>0.730469</td>\n",
              "      <td>0.756348</td>\n",
              "      <td>-0.583008</td>\n",
              "      <td>0.108887</td>\n",
              "      <td>-0.273193</td>\n",
              "      <td>0.417236</td>\n",
              "      <td>-0.588867</td>\n",
              "      <td>0.466064</td>\n",
              "      <td>-0.098816</td>\n",
              "      <td>-0.109314</td>\n",
              "      <td>0.287598</td>\n",
              "      <td>0.865723</td>\n",
              "      <td>0.091492</td>\n",
              "      <td>0.070007</td>\n",
              "      <td>-0.322266</td>\n",
              "      <td>0.589355</td>\n",
              "      <td>-0.038666</td>\n",
              "      <td>-0.049530</td>\n",
              "      <td>0.670898</td>\n",
              "    </tr>\n",
              "    <tr>\n",
              "      <th>167236</th>\n",
              "      <td>-1.670898</td>\n",
              "      <td>-7.312500</td>\n",
              "      <td>-2.699219</td>\n",
              "      <td>0.667480</td>\n",
              "      <td>-3.021484</td>\n",
              "      <td>0.248047</td>\n",
              "      <td>1.533203</td>\n",
              "      <td>-0.518555</td>\n",
              "      <td>-0.097412</td>\n",
              "      <td>-0.171631</td>\n",
              "      <td>-0.779297</td>\n",
              "      <td>-0.744141</td>\n",
              "      <td>0.065796</td>\n",
              "      <td>0.137939</td>\n",
              "      <td>0.922852</td>\n",
              "      <td>1.761719</td>\n",
              "      <td>0.045166</td>\n",
              "      <td>-0.804688</td>\n",
              "      <td>-0.130981</td>\n",
              "      <td>4.019531</td>\n",
              "      <td>1.234375</td>\n",
              "      <td>-1.047852</td>\n",
              "      <td>-1.350586</td>\n",
              "      <td>0.794434</td>\n",
              "      <td>-1.232422</td>\n",
              "      <td>-0.680664</td>\n",
              "      <td>-0.369873</td>\n",
              "      <td>0.313232</td>\n",
              "      <td>27.687500</td>\n",
              "    </tr>\n",
              "    <tr>\n",
              "      <th>...</th>\n",
              "      <td>...</td>\n",
              "      <td>...</td>\n",
              "      <td>...</td>\n",
              "      <td>...</td>\n",
              "      <td>...</td>\n",
              "      <td>...</td>\n",
              "      <td>...</td>\n",
              "      <td>...</td>\n",
              "      <td>...</td>\n",
              "      <td>...</td>\n",
              "      <td>...</td>\n",
              "      <td>...</td>\n",
              "      <td>...</td>\n",
              "      <td>...</td>\n",
              "      <td>...</td>\n",
              "      <td>...</td>\n",
              "      <td>...</td>\n",
              "      <td>...</td>\n",
              "      <td>...</td>\n",
              "      <td>...</td>\n",
              "      <td>...</td>\n",
              "      <td>...</td>\n",
              "      <td>...</td>\n",
              "      <td>...</td>\n",
              "      <td>...</td>\n",
              "      <td>...</td>\n",
              "      <td>...</td>\n",
              "      <td>...</td>\n",
              "      <td>...</td>\n",
              "    </tr>\n",
              "    <tr>\n",
              "      <th>194533</th>\n",
              "      <td>-0.917480</td>\n",
              "      <td>0.855469</td>\n",
              "      <td>1.515625</td>\n",
              "      <td>-0.220703</td>\n",
              "      <td>0.747559</td>\n",
              "      <td>0.859375</td>\n",
              "      <td>0.827637</td>\n",
              "      <td>0.281494</td>\n",
              "      <td>0.400879</td>\n",
              "      <td>-1.066406</td>\n",
              "      <td>-2.439453</td>\n",
              "      <td>-0.765137</td>\n",
              "      <td>-1.608398</td>\n",
              "      <td>-0.233643</td>\n",
              "      <td>-1.497070</td>\n",
              "      <td>0.011734</td>\n",
              "      <td>-0.457764</td>\n",
              "      <td>-0.414795</td>\n",
              "      <td>-0.072083</td>\n",
              "      <td>-0.274170</td>\n",
              "      <td>-0.583984</td>\n",
              "      <td>-1.673828</td>\n",
              "      <td>-0.248779</td>\n",
              "      <td>-0.213989</td>\n",
              "      <td>0.609375</td>\n",
              "      <td>-1.054688</td>\n",
              "      <td>-0.068481</td>\n",
              "      <td>0.048981</td>\n",
              "      <td>0.173462</td>\n",
              "    </tr>\n",
              "    <tr>\n",
              "      <th>163532</th>\n",
              "      <td>-0.818848</td>\n",
              "      <td>-0.653809</td>\n",
              "      <td>1.685547</td>\n",
              "      <td>-1.561523</td>\n",
              "      <td>0.357422</td>\n",
              "      <td>1.305664</td>\n",
              "      <td>0.371826</td>\n",
              "      <td>-0.086060</td>\n",
              "      <td>-0.349609</td>\n",
              "      <td>0.156616</td>\n",
              "      <td>-0.675293</td>\n",
              "      <td>-1.141602</td>\n",
              "      <td>-0.944336</td>\n",
              "      <td>-0.998047</td>\n",
              "      <td>-0.265625</td>\n",
              "      <td>-0.894043</td>\n",
              "      <td>1.537109</td>\n",
              "      <td>-2.703125</td>\n",
              "      <td>0.337891</td>\n",
              "      <td>0.072693</td>\n",
              "      <td>0.248169</td>\n",
              "      <td>1.356445</td>\n",
              "      <td>-0.603516</td>\n",
              "      <td>-1.038086</td>\n",
              "      <td>0.609863</td>\n",
              "      <td>0.318604</td>\n",
              "      <td>-0.277344</td>\n",
              "      <td>-0.461914</td>\n",
              "      <td>1.102539</td>\n",
              "    </tr>\n",
              "    <tr>\n",
              "      <th>47169</th>\n",
              "      <td>0.984375</td>\n",
              "      <td>-0.951660</td>\n",
              "      <td>0.760742</td>\n",
              "      <td>0.729492</td>\n",
              "      <td>-1.429688</td>\n",
              "      <td>-0.353271</td>\n",
              "      <td>-0.542480</td>\n",
              "      <td>-0.063049</td>\n",
              "      <td>-0.419434</td>\n",
              "      <td>0.629883</td>\n",
              "      <td>-0.971191</td>\n",
              "      <td>-0.123718</td>\n",
              "      <td>0.026550</td>\n",
              "      <td>-0.172363</td>\n",
              "      <td>0.361328</td>\n",
              "      <td>-1.416016</td>\n",
              "      <td>-0.041656</td>\n",
              "      <td>1.488281</td>\n",
              "      <td>-1.164062</td>\n",
              "      <td>-0.233032</td>\n",
              "      <td>-0.148315</td>\n",
              "      <td>-0.163452</td>\n",
              "      <td>-0.190674</td>\n",
              "      <td>0.378174</td>\n",
              "      <td>0.456543</td>\n",
              "      <td>-0.239014</td>\n",
              "      <td>0.045746</td>\n",
              "      <td>0.061768</td>\n",
              "      <td>2.070312</td>\n",
              "    </tr>\n",
              "    <tr>\n",
              "      <th>138367</th>\n",
              "      <td>0.699707</td>\n",
              "      <td>-1.557617</td>\n",
              "      <td>0.286865</td>\n",
              "      <td>0.349609</td>\n",
              "      <td>-1.519531</td>\n",
              "      <td>-0.535645</td>\n",
              "      <td>-0.117676</td>\n",
              "      <td>-0.177246</td>\n",
              "      <td>-0.468506</td>\n",
              "      <td>0.452393</td>\n",
              "      <td>-0.967285</td>\n",
              "      <td>-0.115479</td>\n",
              "      <td>-0.277588</td>\n",
              "      <td>-0.071106</td>\n",
              "      <td>-0.190430</td>\n",
              "      <td>-1.633789</td>\n",
              "      <td>0.319336</td>\n",
              "      <td>0.736816</td>\n",
              "      <td>-0.609863</td>\n",
              "      <td>0.116943</td>\n",
              "      <td>-0.456787</td>\n",
              "      <td>-1.458984</td>\n",
              "      <td>-0.134644</td>\n",
              "      <td>0.368408</td>\n",
              "      <td>0.086121</td>\n",
              "      <td>0.273682</td>\n",
              "      <td>-0.065369</td>\n",
              "      <td>0.075745</td>\n",
              "      <td>4.429688</td>\n",
              "    </tr>\n",
              "    <tr>\n",
              "      <th>271</th>\n",
              "      <td>-0.351318</td>\n",
              "      <td>1.183594</td>\n",
              "      <td>0.530762</td>\n",
              "      <td>0.543945</td>\n",
              "      <td>0.798340</td>\n",
              "      <td>-0.804688</td>\n",
              "      <td>1.563477</td>\n",
              "      <td>-0.936035</td>\n",
              "      <td>0.633789</td>\n",
              "      <td>2.302734</td>\n",
              "      <td>1.398438</td>\n",
              "      <td>-0.318604</td>\n",
              "      <td>-1.411133</td>\n",
              "      <td>-0.155273</td>\n",
              "      <td>0.277832</td>\n",
              "      <td>-0.706055</td>\n",
              "      <td>-0.780273</td>\n",
              "      <td>0.354004</td>\n",
              "      <td>0.618652</td>\n",
              "      <td>0.596191</td>\n",
              "      <td>-0.121765</td>\n",
              "      <td>0.667969</td>\n",
              "      <td>-0.057373</td>\n",
              "      <td>0.301514</td>\n",
              "      <td>-0.730957</td>\n",
              "      <td>-0.538574</td>\n",
              "      <td>-0.037201</td>\n",
              "      <td>-0.479980</td>\n",
              "      <td>-0.283936</td>\n",
              "    </tr>\n",
              "  </tbody>\n",
              "</table>\n",
              "<p>213605 rows × 29 columns</p>\n",
              "</div>"
            ],
            "text/plain": [
              "              V1        V2        V3  ...       V27       V28     Amount\n",
              "276544  2.019531 -0.099060 -1.123047  ... -0.016449 -0.048065  -0.071716\n",
              "168089 -0.815918 -0.408203 -1.699219  ... -0.099182  0.199829   6.621094\n",
              "91651  -1.185547  1.182617  1.567383  ... -0.141479 -0.355225  -0.141235\n",
              "258071  1.817383 -0.727539 -0.291504  ... -0.038666 -0.049530   0.670898\n",
              "167236 -1.670898 -7.312500 -2.699219  ... -0.369873  0.313232  27.687500\n",
              "...          ...       ...       ...  ...       ...       ...        ...\n",
              "194533 -0.917480  0.855469  1.515625  ... -0.068481  0.048981   0.173462\n",
              "163532 -0.818848 -0.653809  1.685547  ... -0.277344 -0.461914   1.102539\n",
              "47169   0.984375 -0.951660  0.760742  ...  0.045746  0.061768   2.070312\n",
              "138367  0.699707 -1.557617  0.286865  ... -0.065369  0.075745   4.429688\n",
              "271    -0.351318  1.183594  0.530762  ... -0.037201 -0.479980  -0.283936\n",
              "\n",
              "[213605 rows x 29 columns]"
            ]
          },
          "metadata": {
            "tags": []
          },
          "execution_count": 11
        }
      ]
    },
    {
      "cell_type": "code",
      "metadata": {
        "colab": {
          "base_uri": "https://localhost:8080/"
        },
        "id": "kxmGQtTpEE1n",
        "outputId": "787113f6-bf3d-459f-ee70-e5fbce4027b3"
      },
      "source": [
        "X_test['Amount'] = rob_scaler.transform(X_test['Amount'].values.reshape(-1,1))\n"
      ],
      "execution_count": 12,
      "outputs": [
        {
          "output_type": "stream",
          "text": [
            "/usr/local/lib/python3.7/dist-packages/ipykernel_launcher.py:1: SettingWithCopyWarning:\n",
            "\n",
            "\n",
            "A value is trying to be set on a copy of a slice from a DataFrame.\n",
            "Try using .loc[row_indexer,col_indexer] = value instead\n",
            "\n",
            "See the caveats in the documentation: https://pandas.pydata.org/pandas-docs/stable/user_guide/indexing.html#returning-a-view-versus-a-copy\n",
            "\n"
          ],
          "name": "stderr"
        }
      ]
    },
    {
      "cell_type": "code",
      "metadata": {
        "id": "cRMYB48hFVQl",
        "outputId": "5a970c8e-8f83-4865-9ba3-67bb32284a9f",
        "colab": {
          "base_uri": "https://localhost:8080/"
        }
      },
      "source": [
        "from imblearn.over_sampling import SMOTE\n",
        "\n",
        "sm = SMOTE(random_state = 33)"
      ],
      "execution_count": 13,
      "outputs": [
        {
          "output_type": "stream",
          "text": [
            "/usr/local/lib/python3.7/dist-packages/sklearn/externals/six.py:31: FutureWarning:\n",
            "\n",
            "The module is deprecated in version 0.21 and will be removed in version 0.23 since we've dropped support for Python 2.7. Please rely on the official version of six (https://pypi.org/project/six/).\n",
            "\n",
            "/usr/local/lib/python3.7/dist-packages/sklearn/utils/deprecation.py:144: FutureWarning:\n",
            "\n",
            "The sklearn.neighbors.base module is  deprecated in version 0.22 and will be removed in version 0.24. The corresponding classes / functions should instead be imported from sklearn.neighbors. Anything that cannot be imported from sklearn.neighbors is now part of the private API.\n",
            "\n"
          ],
          "name": "stderr"
        }
      ]
    },
    {
      "cell_type": "code",
      "metadata": {
        "colab": {
          "base_uri": "https://localhost:8080/"
        },
        "id": "YsNPMuR3FY_5",
        "outputId": "5de0ab7d-7ca1-4218-9eab-89610c2d2016"
      },
      "source": [
        "X_train_smote, y_train_smote = sm.fit_sample(X_train, y_train)\n",
        "\n",
        "print('Before SMOTE oversampling X_train shape=',X_train.shape)\n",
        "print('After SMOTE oversampling X_train shape=',X_train_smote.shape)"
      ],
      "execution_count": 14,
      "outputs": [
        {
          "output_type": "stream",
          "text": [
            "/usr/local/lib/python3.7/dist-packages/sklearn/utils/deprecation.py:87: FutureWarning:\n",
            "\n",
            "Function safe_indexing is deprecated; safe_indexing is deprecated in version 0.22 and will be removed in version 0.24.\n",
            "\n"
          ],
          "name": "stderr"
        },
        {
          "output_type": "stream",
          "text": [
            "Before SMOTE oversampling X_train shape= (213605, 29)\n",
            "After SMOTE oversampling X_train shape= (426472, 29)\n"
          ],
          "name": "stdout"
        }
      ]
    },
    {
      "cell_type": "code",
      "metadata": {
        "id": "Q-Macwg1EHWy"
      },
      "source": [
        "from sklearn import metrics\n",
        "from sklearn.metrics import confusion_matrix\n",
        "from sklearn.metrics import f1_score\n",
        "from sklearn.metrics import classification_report\n",
        "from sklearn.metrics import roc_curve, auc, roc_auc_score"
      ],
      "execution_count": 15,
      "outputs": []
    },
    {
      "cell_type": "code",
      "metadata": {
        "id": "_SPZz54ZEO6A"
      },
      "source": [
        "from sklearn.tree import DecisionTreeClassifier\n",
        "from sklearn.model_selection import KFold, GridSearchCV"
      ],
      "execution_count": 16,
      "outputs": []
    },
    {
      "cell_type": "code",
      "metadata": {
        "colab": {
          "base_uri": "https://localhost:8080/"
        },
        "id": "xoM5q2-YEtrG",
        "outputId": "cc6e08ff-6a5c-44fb-9172-9ce7853235bf"
      },
      "source": [
        "dt = DecisionTreeClassifier(max_depth=3, class_weight='balanced')\n",
        "dt.fit(X_train_smote, y_train_smote)"
      ],
      "execution_count": 17,
      "outputs": [
        {
          "output_type": "execute_result",
          "data": {
            "text/plain": [
              "DecisionTreeClassifier(ccp_alpha=0.0, class_weight='balanced', criterion='gini',\n",
              "                       max_depth=3, max_features=None, max_leaf_nodes=None,\n",
              "                       min_impurity_decrease=0.0, min_impurity_split=None,\n",
              "                       min_samples_leaf=1, min_samples_split=2,\n",
              "                       min_weight_fraction_leaf=0.0, presort='deprecated',\n",
              "                       random_state=None, splitter='best')"
            ]
          },
          "metadata": {
            "tags": []
          },
          "execution_count": 17
        }
      ]
    },
    {
      "cell_type": "code",
      "metadata": {
        "id": "HJOp7aljFoLz"
      },
      "source": [
        "y_train_pred_DT = dt.predict(X_train_smote)"
      ],
      "execution_count": 18,
      "outputs": []
    },
    {
      "cell_type": "code",
      "metadata": {
        "colab": {
          "base_uri": "https://localhost:8080/"
        },
        "id": "N8vxYV0eFrgj",
        "outputId": "260541be-884c-4306-b917-126664576172"
      },
      "source": [
        "print(classification_report(y_train_smote, y_train_pred_DT))\n",
        "print('Confusion Matrix - Training Dataset')\n",
        "print(pd.crosstab(y_train_smote, y_train_pred_DT, rownames = ['True'], colnames = ['Predicted'], margins = True))"
      ],
      "execution_count": 19,
      "outputs": [
        {
          "output_type": "stream",
          "text": [
            "              precision    recall  f1-score   support\n",
            "\n",
            "           0       0.95      0.95      0.95    213236\n",
            "           1       0.95      0.95      0.95    213236\n",
            "\n",
            "    accuracy                           0.95    426472\n",
            "   macro avg       0.95      0.95      0.95    426472\n",
            "weighted avg       0.95      0.95      0.95    426472\n",
            "\n",
            "Confusion Matrix - Training Dataset\n",
            "Predicted       0       1     All\n",
            "True                             \n",
            "0          203126   10110  213236\n",
            "1           11116  202120  213236\n",
            "All        214242  212230  426472\n"
          ],
          "name": "stdout"
        }
      ]
    },
    {
      "cell_type": "code",
      "metadata": {
        "id": "-7xqx_s8GZ5i"
      },
      "source": [
        "y_test_DT_smote = dt.predict(X_test)"
      ],
      "execution_count": 20,
      "outputs": []
    },
    {
      "cell_type": "code",
      "metadata": {
        "colab": {
          "base_uri": "https://localhost:8080/"
        },
        "id": "WBne7a2sGnrC",
        "outputId": "f606be7b-aa1a-4e0e-91d3-1e9df0c6a1bf"
      },
      "source": [
        "print(classification_report(y_test, y_test_DT_smote))\n",
        "print('Confusion Matrix - Training Dataset')\n",
        "print(pd.crosstab(y_test, y_test_DT_smote, rownames = ['True'], colnames = ['Predicted'], margins = True))"
      ],
      "execution_count": 21,
      "outputs": [
        {
          "output_type": "stream",
          "text": [
            "              precision    recall  f1-score   support\n",
            "\n",
            "           0       1.00      0.95      0.98     71079\n",
            "           1       0.03      0.85      0.06       123\n",
            "\n",
            "    accuracy                           0.95     71202\n",
            "   macro avg       0.52      0.90      0.52     71202\n",
            "weighted avg       1.00      0.95      0.97     71202\n",
            "\n",
            "Confusion Matrix - Training Dataset\n",
            "Predicted      0     1    All\n",
            "True                         \n",
            "0          67760  3319  71079\n",
            "1             19   104    123\n",
            "All        67779  3423  71202\n"
          ],
          "name": "stdout"
        }
      ]
    },
    {
      "cell_type": "code",
      "metadata": {
        "colab": {
          "base_uri": "https://localhost:8080/"
        },
        "id": "xPUHKqSkHcPo",
        "outputId": "1923501e-8f6b-40a5-c5af-97142126ee14"
      },
      "source": [
        "roc_auc_score(y_train_smote.ravel(), y_train_pred_DT)"
      ],
      "execution_count": 22,
      "outputs": [
        {
          "output_type": "execute_result",
          "data": {
            "text/plain": [
              "0.9502288544148269"
            ]
          },
          "metadata": {
            "tags": []
          },
          "execution_count": 22
        }
      ]
    },
    {
      "cell_type": "code",
      "metadata": {
        "id": "Ydm4nK52HuCC"
      },
      "source": [
        "y_train_pred_proba_DT_smote = dt.predict_proba(X_train_smote)[:,1]"
      ],
      "execution_count": 23,
      "outputs": []
    },
    {
      "cell_type": "code",
      "metadata": {
        "colab": {
          "base_uri": "https://localhost:8080/",
          "height": 295
        },
        "id": "eJ6oYWL-HnGB",
        "outputId": "c866e1c6-0afb-40b0-f77e-f2847d63e54e"
      },
      "source": [
        "fpr, tpr, thresholds = roc_curve(y_train_smote.ravel(),y_train_pred_proba_DT_smote)\n",
        "roc_auc = auc(fpr,tpr)\n",
        "\n",
        "# Plot ROC\n",
        "plt.title('Receiver Operating Characteristic')\n",
        "plt.plot(fpr, tpr, 'b',label='AUC = %0.2f'% roc_auc)\n",
        "plt.legend(loc='lower right')\n",
        "plt.plot([0,1],[0,1],'r--')\n",
        "plt.xlim([-0.1,1.0])\n",
        "plt.ylim([-0.1,1.01])\n",
        "plt.ylabel('True Positive Rate')\n",
        "plt.xlabel('False Positive Rate')\n",
        "plt.show()\n"
      ],
      "execution_count": 24,
      "outputs": [
        {
          "output_type": "display_data",
          "data": {
            "image/png": "[encoded data removed]",
            "text/plain": [
              "<Figure size 432x288 with 1 Axes>"
            ]
          },
          "metadata": {
            "tags": [],
            "needs_background": "light"
          }
        }
      ]
    },
    {
      "cell_type": "markdown",
      "metadata": {
        "id": "Ngn9mbgcqMC_"
      },
      "source": [
        "### CATBOOST"
      ]
    },
    {
      "cell_type": "code",
      "metadata": {
        "colab": {
          "base_uri": "https://localhost:8080/"
        },
        "id": "UTzzjb6DqLhO",
        "outputId": "7a23438d-9363-42d8-8c4a-54f345e75a0b"
      },
      "source": [
        "!pip install catboost\n",
        "from catboost import CatBoostClassifier"
      ],
      "execution_count": 92,
      "outputs": [
        {
          "output_type": "stream",
          "text": [
            "Requirement already satisfied: catboost in /usr/local/lib/python3.7/dist-packages (0.26)\n",
            "Requirement already satisfied: numpy>=1.16.0 in /usr/local/lib/python3.7/dist-packages (from catboost) (1.19.5)\n",
            "Requirement already satisfied: plotly in /usr/local/lib/python3.7/dist-packages (from catboost) (4.4.1)\n",
            "Requirement already satisfied: six in /usr/local/lib/python3.7/dist-packages (from catboost) (1.15.0)\n",
            "Requirement already satisfied: scipy in /usr/local/lib/python3.7/dist-packages (from catboost) (1.4.1)\n",
            "Requirement already satisfied: graphviz in /usr/local/lib/python3.7/dist-packages (from catboost) (0.10.1)\n",
            "Requirement already satisfied: matplotlib in /usr/local/lib/python3.7/dist-packages (from catboost) (3.2.2)\n",
            "Requirement already satisfied: pandas>=0.24.0 in /usr/local/lib/python3.7/dist-packages (from catboost) (1.1.5)\n",
            "Requirement already satisfied: python-dateutil>=2.7.3 in /usr/local/lib/python3.7/dist-packages (from pandas>=0.24.0->catboost) (2.8.1)\n",
            "Requirement already satisfied: pytz>=2017.2 in /usr/local/lib/python3.7/dist-packages (from pandas>=0.24.0->catboost) (2018.9)\n",
            "Requirement already satisfied: kiwisolver>=1.0.1 in /usr/local/lib/python3.7/dist-packages (from matplotlib->catboost) (1.3.1)\n",
            "Requirement already satisfied: cycler>=0.10 in /usr/local/lib/python3.7/dist-packages (from matplotlib->catboost) (0.10.0)\n",
            "Requirement already satisfied: pyparsing!=2.0.4,!=2.1.2,!=2.1.6,>=2.0.1 in /usr/local/lib/python3.7/dist-packages (from matplotlib->catboost) (2.4.7)\n",
            "Requirement already satisfied: retrying>=1.3.3 in /usr/local/lib/python3.7/dist-packages (from plotly->catboost) (1.3.3)\n"
          ],
          "name": "stdout"
        }
      ]
    },
    {
      "cell_type": "code",
      "metadata": {
        "id": "EqU_ulYftsfs"
      },
      "source": [
        "cat_model = CatBoostClassifier(eval_metric='AUC', verbose=100)"
      ],
      "execution_count": 93,
      "outputs": []
    },
    {
      "cell_type": "code",
      "metadata": {
        "colab": {
          "base_uri": "https://localhost:8080/"
        },
        "id": "ANsrlB_nuBtg",
        "outputId": "3f649a3a-d177-4f9d-8a87-f44883d72dcf"
      },
      "source": [
        "cat_model.fit(X_train_smote, y_train_smote,eval_set=(X_test, y_test), use_best_model=True)"
      ],
      "execution_count": 94,
      "outputs": [
        {
          "output_type": "stream",
          "text": [
            "Learning rate set to 0.141414\n",
            "0:\ttest: 0.9438783\tbest: 0.9438783 (0)\ttotal: 296ms\tremaining: 4m 55s\n",
            "100:\ttest: 0.9635022\tbest: 0.9716973 (5)\ttotal: 19.7s\tremaining: 2m 54s\n",
            "200:\ttest: 0.9661375\tbest: 0.9716973 (5)\ttotal: 38.1s\tremaining: 2m 31s\n",
            "300:\ttest: 0.9661930\tbest: 0.9716973 (5)\ttotal: 52.9s\tremaining: 2m 2s\n",
            "400:\ttest: 0.9661923\tbest: 0.9716973 (5)\ttotal: 1m 7s\tremaining: 1m 41s\n",
            "500:\ttest: 0.9661923\tbest: 0.9716973 (5)\ttotal: 1m 22s\tremaining: 1m 22s\n",
            "600:\ttest: 0.9663300\tbest: 0.9716973 (5)\ttotal: 1m 37s\tremaining: 1m 4s\n",
            "700:\ttest: 0.9663300\tbest: 0.9716973 (5)\ttotal: 1m 52s\tremaining: 48.1s\n",
            "800:\ttest: 0.9663298\tbest: 0.9716973 (5)\ttotal: 2m 7s\tremaining: 31.7s\n",
            "900:\ttest: 0.9663271\tbest: 0.9716973 (5)\ttotal: 2m 22s\tremaining: 15.7s\n",
            "999:\ttest: 0.9663259\tbest: 0.9716973 (5)\ttotal: 2m 37s\tremaining: 0us\n",
            "\n",
            "bestTest = 0.9716972996\n",
            "bestIteration = 5\n",
            "\n",
            "Shrink model to first 6 iterations.\n"
          ],
          "name": "stdout"
        },
        {
          "output_type": "execute_result",
          "data": {
            "text/plain": [
              "<catboost.core.CatBoostClassifier at 0x7fbdaccbbad0>"
            ]
          },
          "metadata": {
            "tags": []
          },
          "execution_count": 94
        }
      ]
    },
    {
      "cell_type": "code",
      "metadata": {
        "id": "VIKdR8SfuUrJ"
      },
      "source": [
        "y_train_pred_smote_cat = cat_model.predict(X_train_smote)\n",
        "y_test_CAT_smote =cat_model.predict(X_test)\n",
        "pred_prob =cat_model.predict_proba(X_test)[:,1]\n",
        "pred_prob_train= cat_model.predict_proba(X_train_smote)[:,1]"
      ],
      "execution_count": null,
      "outputs": []
    },
    {
      "cell_type": "code",
      "metadata": {
        "colab": {
          "base_uri": "https://localhost:8080/"
        },
        "id": "DEWKLOTKvN5v",
        "outputId": "c45a1a97-68ba-4b23-9aac-131a149fc095"
      },
      "source": [
        "print(classification_report(y_train_smote, y_train_pred_smote_cat))\n",
        "print('Confusion Matrix - Training Dataset')\n",
        "print(pd.crosstab(y_train_smote, y_train_pred_smote_cat, rownames = ['True'], colnames = ['Predicted'], margins = True))"
      ],
      "execution_count": null,
      "outputs": [
        {
          "output_type": "stream",
          "text": [
            "              precision    recall  f1-score   support\n",
            "\n",
            "           0       0.96      0.98      0.97    213236\n",
            "           1       0.98      0.95      0.97    213236\n",
            "\n",
            "    accuracy                           0.97    426472\n",
            "   macro avg       0.97      0.97      0.97    426472\n",
            "weighted avg       0.97      0.97      0.97    426472\n",
            "\n",
            "Confusion Matrix - Training Dataset\n",
            "Predicted       0       1     All\n",
            "True                             \n",
            "0          209889    3347  213236\n",
            "1            9775  203461  213236\n",
            "All        219664  206808  426472\n"
          ],
          "name": "stdout"
        }
      ]
    },
    {
      "cell_type": "code",
      "metadata": {
        "colab": {
          "base_uri": "https://localhost:8080/"
        },
        "id": "IbNFlf56u97B",
        "outputId": "d2383081-27f2-40fb-b026-db8c65ade368"
      },
      "source": [
        "print(classification_report(y_test, y_test_CAT_smote))\n",
        "print('Confusion Matrix - Training Dataset')\n",
        "print(pd.crosstab(y_test, y_test_CAT_smote, rownames = ['True'], colnames = ['Predicted'], margins = True))"
      ],
      "execution_count": null,
      "outputs": [
        {
          "output_type": "stream",
          "text": [
            "              precision    recall  f1-score   support\n",
            "\n",
            "           0       1.00      0.98      0.99     71079\n",
            "           1       0.09      0.85      0.16       123\n",
            "\n",
            "    accuracy                           0.98     71202\n",
            "   macro avg       0.54      0.92      0.58     71202\n",
            "weighted avg       1.00      0.98      0.99     71202\n",
            "\n",
            "Confusion Matrix - Training Dataset\n",
            "Predicted      0     1    All\n",
            "True                         \n",
            "0          70010  1069  71079\n",
            "1             19   104    123\n",
            "All        70029  1173  71202\n"
          ],
          "name": "stdout"
        }
      ]
    },
    {
      "cell_type": "code",
      "metadata": {
        "colab": {
          "base_uri": "https://localhost:8080/"
        },
        "id": "DIffo66i17oU",
        "outputId": "e66eb89c-b007-40f1-a3e0-c93c6c42cc77"
      },
      "source": [
        "roc_auc_score(y_test, pred_prob)"
      ],
      "execution_count": null,
      "outputs": [
        {
          "output_type": "execute_result",
          "data": {
            "text/plain": [
              "0.971697299592335"
            ]
          },
          "metadata": {
            "tags": []
          },
          "execution_count": 32
        }
      ]
    },
    {
      "cell_type": "code",
      "metadata": {
        "colab": {
          "base_uri": "https://localhost:8080/"
        },
        "id": "JU2tH77O2tJG",
        "outputId": "9d751761-51f4-41f4-b611-3c430a89e550"
      },
      "source": [
        "roc_auc_score(y_test,  y_test_CAT_smote)"
      ],
      "execution_count": null,
      "outputs": [
        {
          "output_type": "execute_result",
          "data": {
            "text/plain": [
              "0.9152444257317263"
            ]
          },
          "metadata": {
            "tags": []
          },
          "execution_count": 33
        }
      ]
    },
    {
      "cell_type": "code",
      "metadata": {
        "colab": {
          "base_uri": "https://localhost:8080/",
          "height": 295
        },
        "id": "WqyC-G6d2xk-",
        "outputId": "d8a7cf28-51c7-42dd-bc3e-c62c5ad2c6e8"
      },
      "source": [
        "fpr, tpr, thresholds = roc_curve(y_test.ravel(),pred_prob)\n",
        "roc_auc = auc(fpr,tpr)\n",
        "\n",
        "# Plot ROC\n",
        "plt.title('Receiver Operating Characteristic')\n",
        "plt.plot(fpr, tpr, 'b',label='AUC = %0.2f'% roc_auc)\n",
        "plt.legend(loc='lower right')\n",
        "plt.plot([0,1],[0,1],'r--')\n",
        "plt.xlim([-0.1,1.0])\n",
        "plt.ylim([-0.1,1.01])\n",
        "plt.ylabel('True Positive Rate')\n",
        "plt.xlabel('False Positive Rate')\n",
        "plt.show()"
      ],
      "execution_count": null,
      "outputs": [
        {
          "output_type": "display_data",
          "data": {
            "image/png": "[encoded data removed]",
            "text/plain": [
              "<Figure size 432x288 with 1 Axes>"
            ]
          },
          "metadata": {
            "tags": [],
            "needs_background": "light"
          }
        }
      ]
    },
    {
      "cell_type": "code",
      "metadata": {
        "id": "KfpnmkGw_ZPN"
      },
      "source": [
        ""
      ],
      "execution_count": null,
      "outputs": []
    },
    {
      "cell_type": "markdown",
      "metadata": {
        "id": "8YsOPidQ_Ysm"
      },
      "source": [
        "### LIGHT GBM"
      ]
    },
    {
      "cell_type": "code",
      "metadata": {
        "id": "1BRj5rMH3UdP"
      },
      "source": [
        "from lightgbm import LGBMClassifier"
      ],
      "execution_count": 45,
      "outputs": []
    },
    {
      "cell_type": "code",
      "metadata": {
        "id": "J6iGkDZj_jFw"
      },
      "source": [
        "lgb_model= LGBMClassifier(n_jobs=-1,num_threads=16,max_depth=7, random_state=17)"
      ],
      "execution_count": 66,
      "outputs": []
    },
    {
      "cell_type": "code",
      "metadata": {
        "colab": {
          "base_uri": "https://localhost:8080/"
        },
        "id": "cB0WiwtJAySk",
        "outputId": "c808234b-8a43-4bb5-ac6f-e5563916a9ce"
      },
      "source": [
        "lgb_model.fit(X_train_smote, y_train_smote)"
      ],
      "execution_count": 67,
      "outputs": [
        {
          "output_type": "execute_result",
          "data": {
            "text/plain": [
              "LGBMClassifier(boosting_type='gbdt', class_weight=None, colsample_bytree=1.0,\n",
              "               importance_type='split', learning_rate=0.1, max_depth=7,\n",
              "               min_child_samples=20, min_child_weight=0.001, min_split_gain=0.0,\n",
              "               n_estimators=100, n_jobs=-1, num_leaves=31, num_threads=16,\n",
              "               objective=None, random_state=17, reg_alpha=0.0, reg_lambda=0.0,\n",
              "               silent=True, subsample=1.0, subsample_for_bin=200000,\n",
              "               subsample_freq=0)"
            ]
          },
          "metadata": {
            "tags": []
          },
          "execution_count": 67
        }
      ]
    },
    {
      "cell_type": "code",
      "metadata": {
        "id": "eLmzgUXGBBKr"
      },
      "source": [
        "y_train_pred_smote_lgb = lgb_model.predict(X_train_smote)\n",
        "y_test_LGB_smote =lgb_model.predict(X_test)\n",
        "pred_prob_lgb =lgb_model.predict_proba(X_test)[:,1]\n",
        "pred_prob_train_lgb= lgb_model.predict_proba(X_train_smote)[:,1]"
      ],
      "execution_count": 68,
      "outputs": []
    },
    {
      "cell_type": "code",
      "metadata": {
        "colab": {
          "base_uri": "https://localhost:8080/"
        },
        "id": "hDQPg-WABXif",
        "outputId": "41f71690-3ad4-4758-9fa6-d3da0ed92e65"
      },
      "source": [
        "print(classification_report(y_train_smote, y_train_pred_smote_lgb))\n",
        "print('Confusion Matrix - Training Dataset')\n",
        "print(pd.crosstab(y_train_smote, y_train_pred_smote_lgb, rownames = ['True'], colnames = ['Predicted'], margins = True))"
      ],
      "execution_count": 69,
      "outputs": [
        {
          "output_type": "stream",
          "text": [
            "              precision    recall  f1-score   support\n",
            "\n",
            "           0       1.00      1.00      1.00    213236\n",
            "           1       1.00      1.00      1.00    213236\n",
            "\n",
            "    accuracy                           1.00    426472\n",
            "   macro avg       1.00      1.00      1.00    426472\n",
            "weighted avg       1.00      1.00      1.00    426472\n",
            "\n",
            "Confusion Matrix - Training Dataset\n",
            "Predicted       0       1     All\n",
            "True                             \n",
            "0          212958     278  213236\n",
            "1              42  213194  213236\n",
            "All        213000  213472  426472\n"
          ],
          "name": "stdout"
        }
      ]
    },
    {
      "cell_type": "code",
      "metadata": {
        "colab": {
          "base_uri": "https://localhost:8080/"
        },
        "id": "uBvO9iv1BfWV",
        "outputId": "dd638337-7ffc-4745-ea3a-0f24baf6fbd7"
      },
      "source": [
        "print(classification_report(y_test, y_test_LGB_smote))\n",
        "print('Confusion Matrix - Training Dataset')\n",
        "print(pd.crosstab(y_test, y_test_LGB_smote, rownames = ['True'], colnames = ['Predicted'], margins = True))"
      ],
      "execution_count": 70,
      "outputs": [
        {
          "output_type": "stream",
          "text": [
            "              precision    recall  f1-score   support\n",
            "\n",
            "           0       1.00      1.00      1.00     71079\n",
            "           1       0.45      0.82      0.58       123\n",
            "\n",
            "    accuracy                           1.00     71202\n",
            "   macro avg       0.73      0.91      0.79     71202\n",
            "weighted avg       1.00      1.00      1.00     71202\n",
            "\n",
            "Confusion Matrix - Training Dataset\n",
            "Predicted      0    1    All\n",
            "True                        \n",
            "0          70957  122  71079\n",
            "1             22  101    123\n",
            "All        70979  223  71202\n"
          ],
          "name": "stdout"
        }
      ]
    },
    {
      "cell_type": "code",
      "metadata": {
        "colab": {
          "base_uri": "https://localhost:8080/"
        },
        "id": "HFaB56DWH3VQ",
        "outputId": "42bef589-550c-4f49-8259-1ed04d42c69d"
      },
      "source": [
        "roc_auc_score(y_test, pred_prob_lgb)"
      ],
      "execution_count": 71,
      "outputs": [
        {
          "output_type": "execute_result",
          "data": {
            "text/plain": [
              "0.9709622306200693"
            ]
          },
          "metadata": {
            "tags": []
          },
          "execution_count": 71
        }
      ]
    },
    {
      "cell_type": "code",
      "metadata": {
        "colab": {
          "base_uri": "https://localhost:8080/",
          "height": 295
        },
        "id": "7J656seYHvM-",
        "outputId": "0d52a710-c2fa-4d88-ce19-f76fb720a4de"
      },
      "source": [
        "fpr, tpr, thresholds = roc_curve(y_test.ravel(),pred_prob_lgb)\n",
        "roc_auc = auc(fpr,tpr)\n",
        "\n",
        "# Plot ROC\n",
        "plt.title('Receiver Operating Characteristic')\n",
        "plt.plot(fpr, tpr, 'b',label='AUC = %0.2f'% roc_auc)\n",
        "plt.legend(loc='lower right')\n",
        "plt.plot([0,1],[0,1],'r--')\n",
        "plt.xlim([-0.1,1.0])\n",
        "plt.ylim([-0.1,1.01])\n",
        "plt.ylabel('True Positive Rate')\n",
        "plt.xlabel('False Positive Rate')\n",
        "plt.show()"
      ],
      "execution_count": 54,
      "outputs": [
        {
          "output_type": "display_data",
          "data": {
            "image/png": "[encoded data removed]",
            "text/plain": [
              "<Figure size 432x288 with 1 Axes>"
            ]
          },
          "metadata": {
            "tags": [],
            "needs_background": "light"
          }
        }
      ]
    },
    {
      "cell_type": "code",
      "metadata": {
        "id": "lTZ7Qw6gRiDO",
        "outputId": "0f48ab56-06e1-445a-f5e2-1fea3e581e68",
        "colab": {
          "base_uri": "https://localhost:8080/"
        }
      },
      "source": [
        "from sklearn.metrics import average_precision_score\n",
        "\n",
        "average_precision_score(y_test, y_test_LGB_smote)"
      ],
      "execution_count": 72,
      "outputs": [
        {
          "output_type": "execute_result",
          "data": {
            "text/plain": [
              "0.3722146273924232"
            ]
          },
          "metadata": {
            "tags": []
          },
          "execution_count": 72
        }
      ]
    },
    {
      "cell_type": "code",
      "metadata": {
        "id": "mealJdrKX2fP"
      },
      "source": [
        "from scipy.stats import ks_2samp\n",
        "from sklearn.metrics import make_scorer, roc_auc_score, log_loss\n",
        "from sklearn.model_selection import GridSearchCV\n",
        "\n",
        "def ks_stat(y, yhat):\n",
        "    return ks_2samp(yhat[y==1], yhat[y!=1]).statistic\n",
        "\n",
        "\n",
        "ks_scorer = make_scorer(ks_stat, needs_proba=True)\n",
        "\n",
        "log_scorer = make_scorer(roc_auc_score, needs_proba=True, greater_is_better=False)\n",
        "\n",
        "roc_scorer = make_scorer(log_loss, needs_proba=True)"
      ],
      "execution_count": 82,
      "outputs": []
    },
    {
      "cell_type": "code",
      "metadata": {
        "id": "MURS8gGjX4SF",
        "outputId": "cd5d18a3-c1cb-4bb3-ac38-818f819ac225",
        "colab": {
          "base_uri": "https://localhost:8080/"
        }
      },
      "source": [
        "ks_stat(y_test, y_test_LR_smote)"
      ],
      "execution_count": 91,
      "outputs": [
        {
          "output_type": "execute_result",
          "data": {
            "text/plain": [
              "0.827209436151256"
            ]
          },
          "metadata": {
            "tags": []
          },
          "execution_count": 91
        }
      ]
    },
    {
      "cell_type": "markdown",
      "metadata": {
        "id": "FEDgIgpgLWJX"
      },
      "source": [
        "### RANDOM FOREST CLASSIFIER"
      ]
    },
    {
      "cell_type": "code",
      "metadata": {
        "id": "kBvXt-7-LYZp"
      },
      "source": [
        "from sklearn.ensemble import RandomForestClassifier \n",
        "#random forest model creation \n",
        "rfc = RandomForestClassifier() "
      ],
      "execution_count": 37,
      "outputs": []
    },
    {
      "cell_type": "code",
      "metadata": {
        "colab": {
          "base_uri": "https://localhost:8080/"
        },
        "id": "8ygjDk7DLaaq",
        "outputId": "efd7342c-1ec1-4cec-f482-4f3f345c02d2"
      },
      "source": [
        "rfc.fit(X_train_smote, y_train_smote)"
      ],
      "execution_count": 38,
      "outputs": [
        {
          "output_type": "execute_result",
          "data": {
            "text/plain": [
              "RandomForestClassifier(bootstrap=True, ccp_alpha=0.0, class_weight=None,\n",
              "                       criterion='gini', max_depth=None, max_features='auto',\n",
              "                       max_leaf_nodes=None, max_samples=None,\n",
              "                       min_impurity_decrease=0.0, min_impurity_split=None,\n",
              "                       min_samples_leaf=1, min_samples_split=2,\n",
              "                       min_weight_fraction_leaf=0.0, n_estimators=100,\n",
              "                       n_jobs=None, oob_score=False, random_state=None,\n",
              "                       verbose=0, warm_start=False)"
            ]
          },
          "metadata": {
            "tags": []
          },
          "execution_count": 38
        }
      ]
    },
    {
      "cell_type": "code",
      "metadata": {
        "id": "f7fMYYjzLqfl"
      },
      "source": [
        "y_train_pred_smote_rfc = rfc.predict(X_train_smote)\n",
        "y_test_RFC_smote =rfc.predict(X_test)\n",
        "pred_prob_rfc =rfc.predict_proba(X_test)[:,1]\n",
        "pred_prob_train_rfc= rfc.predict_proba(X_train_smote)[:,1]"
      ],
      "execution_count": 39,
      "outputs": []
    },
    {
      "cell_type": "code",
      "metadata": {
        "colab": {
          "base_uri": "https://localhost:8080/"
        },
        "id": "4LTrTRLpL9Bq",
        "outputId": "36f68e34-0cbb-4321-c4c9-1630b8fd0af8"
      },
      "source": [
        "print(classification_report(y_train_smote, y_train_pred_smote_rfc))\n",
        "print('Confusion Matrix - Training Dataset')\n",
        "print(pd.crosstab(y_train_smote, y_train_pred_smote_rfc, rownames = ['True'], colnames = ['Predicted'], margins = True))"
      ],
      "execution_count": 40,
      "outputs": [
        {
          "output_type": "stream",
          "text": [
            "              precision    recall  f1-score   support\n",
            "\n",
            "           0       1.00      1.00      1.00    213236\n",
            "           1       1.00      1.00      1.00    213236\n",
            "\n",
            "    accuracy                           1.00    426472\n",
            "   macro avg       1.00      1.00      1.00    426472\n",
            "weighted avg       1.00      1.00      1.00    426472\n",
            "\n",
            "Confusion Matrix - Training Dataset\n",
            "Predicted       0       1     All\n",
            "True                             \n",
            "0          213236       0  213236\n",
            "1               0  213236  213236\n",
            "All        213236  213236  426472\n"
          ],
          "name": "stdout"
        }
      ]
    },
    {
      "cell_type": "code",
      "metadata": {
        "colab": {
          "base_uri": "https://localhost:8080/"
        },
        "id": "bvc9SehyL_Pv",
        "outputId": "79bfa9ee-9772-46c2-f67e-3cd8dba5b6a4"
      },
      "source": [
        "print(classification_report(y_test, y_test_RFC_smote))\n",
        "print('Confusion Matrix - Training Dataset')\n",
        "print(pd.crosstab(y_test, y_test_RFC_smote, rownames = ['True'], colnames = ['Predicted'], margins = True))"
      ],
      "execution_count": 41,
      "outputs": [
        {
          "output_type": "stream",
          "text": [
            "              precision    recall  f1-score   support\n",
            "\n",
            "           0       1.00      1.00      1.00     71079\n",
            "           1       0.92      0.80      0.86       123\n",
            "\n",
            "    accuracy                           1.00     71202\n",
            "   macro avg       0.96      0.90      0.93     71202\n",
            "weighted avg       1.00      1.00      1.00     71202\n",
            "\n",
            "Confusion Matrix - Training Dataset\n",
            "Predicted      0    1    All\n",
            "True                        \n",
            "0          71070    9  71079\n",
            "1             24   99    123\n",
            "All        71094  108  71202\n"
          ],
          "name": "stdout"
        }
      ]
    },
    {
      "cell_type": "code",
      "metadata": {
        "colab": {
          "base_uri": "https://localhost:8080/"
        },
        "id": "HBo63fsWMHAT",
        "outputId": "e7be9ded-4879-4ff3-ff6e-35d0de3f5fd0"
      },
      "source": [
        "roc_auc_score(y_test, pred_prob_rfc)"
      ],
      "execution_count": 42,
      "outputs": [
        {
          "output_type": "execute_result",
          "data": {
            "text/plain": [
              "0.9603424770583333"
            ]
          },
          "metadata": {
            "tags": []
          },
          "execution_count": 42
        }
      ]
    },
    {
      "cell_type": "code",
      "metadata": {
        "colab": {
          "base_uri": "https://localhost:8080/",
          "height": 295
        },
        "id": "bd-ALBaSMJm2",
        "outputId": "01a63d97-c280-4b9c-c6d6-2fd98036bd19"
      },
      "source": [
        "fpr, tpr, thresholds = roc_curve(y_test.ravel(),pred_prob_rfc)\n",
        "roc_auc = auc(fpr,tpr)\n",
        "\n",
        "# Plot ROC\n",
        "plt.title('Receiver Operating Characteristic')\n",
        "plt.plot(fpr, tpr, 'b',label='AUC = %0.2f'% roc_auc)\n",
        "plt.legend(loc='lower right')\n",
        "plt.plot([0,1],[0,1],'r--')\n",
        "plt.xlim([-0.1,1.0])\n",
        "plt.ylim([-0.1,1.01])\n",
        "plt.ylabel('True Positive Rate')\n",
        "plt.xlabel('False Positive Rate')\n",
        "plt.show()"
      ],
      "execution_count": 43,
      "outputs": [
        {
          "output_type": "display_data",
          "data": {
            "image/png": "[encoded data removed]",
            "text/plain": [
              "<Figure size 432x288 with 1 Axes>"
            ]
          },
          "metadata": {
            "tags": [],
            "needs_background": "light"
          }
        }
      ]
    },
    {
      "cell_type": "markdown",
      "metadata": {
        "id": "pV5hGtozPf_v"
      },
      "source": [
        ""
      ]
    },
    {
      "cell_type": "code",
      "metadata": {
        "id": "Z2m9pn9wPgir",
        "outputId": "fb27853c-86e7-4896-ee9d-f7729a82fc8a",
        "colab": {
          "base_uri": "https://localhost:8080/"
        }
      },
      "source": [
        "from sklearn.metrics import average_precision_score\n",
        "\n",
        "average_precision_score(y_test, y_test_RFC_smote)"
      ],
      "execution_count": 44,
      "outputs": [
        {
          "output_type": "execute_result",
          "data": {
            "text/plain": [
              "0.7381419472322304"
            ]
          },
          "metadata": {
            "tags": []
          },
          "execution_count": 44
        }
      ]
    },
    {
      "cell_type": "markdown",
      "metadata": {
        "id": "s1rnl0fePgrC"
      },
      "source": [
        "###LOGISTICS REGRESSION"
      ]
    },
    {
      "cell_type": "code",
      "metadata": {
        "id": "FsyGRQLUPo0Z"
      },
      "source": [
        "from sklearn.linear_model import LogisticRegression"
      ],
      "execution_count": 85,
      "outputs": []
    },
    {
      "cell_type": "code",
      "metadata": {
        "id": "SisP9k75Pi08"
      },
      "source": [
        "pred_df = LogisticRegression(class_weight={0:1,1:5})\n",
        "logistic_smote= pred_df.fit(X_train_smote, y_train_smote)\n",
        "\n",
        "# prediction for Training data\n",
        "y_train_pred_smote_lr = logistic_smote.predict(X_train_smote)\n",
        "y_test_LR_smote =logistic_smote.predict(X_test)\n",
        "pred_prob_lr =logistic_smote.predict_proba(X_test)[:,1]\n",
        "pred_prob_train_lr= logistic_smote.predict_proba(X_train_smote)[:,1]"
      ],
      "execution_count": 86,
      "outputs": []
    },
    {
      "cell_type": "markdown",
      "metadata": {
        "id": "nJ31yiMkTpiE"
      },
      "source": [
        "Taking weight of fraud classes as 5-10 improves the precision and recall score. "
      ]
    },
    {
      "cell_type": "code",
      "metadata": {
        "colab": {
          "base_uri": "https://localhost:8080/"
        },
        "id": "n0JXp-c2P-tq",
        "outputId": "d135e7f2-bb23-46c1-f926-e7f7368a520a"
      },
      "source": [
        "print(classification_report(y_train_smote, y_train_pred_smote_lr))\n",
        "print('Confusion Matrix - Training Dataset')\n",
        "print(pd.crosstab(y_train_smote, y_train_pred_smote_lr, rownames = ['True'], colnames = ['Predicted'], margins = True))"
      ],
      "execution_count": 87,
      "outputs": [
        {
          "output_type": "stream",
          "text": [
            "              precision    recall  f1-score   support\n",
            "\n",
            "           0       0.98      0.91      0.94    213236\n",
            "           1       0.91      0.98      0.94    213236\n",
            "\n",
            "    accuracy                           0.94    426472\n",
            "   macro avg       0.94      0.94      0.94    426472\n",
            "weighted avg       0.94      0.94      0.94    426472\n",
            "\n",
            "Confusion Matrix - Training Dataset\n",
            "Predicted       0       1     All\n",
            "True                             \n",
            "0          193384   19852  213236\n",
            "1            4590  208646  213236\n",
            "All        197974  228498  426472\n"
          ],
          "name": "stdout"
        }
      ]
    },
    {
      "cell_type": "code",
      "metadata": {
        "colab": {
          "base_uri": "https://localhost:8080/"
        },
        "id": "OlG8_BL4QBK_",
        "outputId": "bfc94e4f-c213-4d3e-ebb9-f35927c29830"
      },
      "source": [
        "print(classification_report(y_test, y_test_LR_smote))\n",
        "print('Confusion Matrix - Training Dataset')\n",
        "print(pd.crosstab(y_test, y_test_LR_smote, rownames = ['True'], colnames = ['Predicted'], margins = True))"
      ],
      "execution_count": 88,
      "outputs": [
        {
          "output_type": "stream",
          "text": [
            "              precision    recall  f1-score   support\n",
            "\n",
            "           0       1.00      0.91      0.95     71079\n",
            "           1       0.02      0.92      0.03       123\n",
            "\n",
            "    accuracy                           0.91     71202\n",
            "   macro avg       0.51      0.91      0.49     71202\n",
            "weighted avg       1.00      0.91      0.95     71202\n",
            "\n",
            "Confusion Matrix - Training Dataset\n",
            "Predicted      0     1    All\n",
            "True                         \n",
            "0          64576  6503  71079\n",
            "1             10   113    123\n",
            "All        64586  6616  71202\n"
          ],
          "name": "stdout"
        }
      ]
    },
    {
      "cell_type": "code",
      "metadata": {
        "colab": {
          "base_uri": "https://localhost:8080/"
        },
        "id": "BEUlUAVvQP6q",
        "outputId": "ddda943a-df36-408a-aaa7-b4eed64b7034"
      },
      "source": [
        "roc_auc_score(y_test, pred_prob_lr)"
      ],
      "execution_count": 89,
      "outputs": [
        {
          "output_type": "execute_result",
          "data": {
            "text/plain": [
              "0.9718241480308696"
            ]
          },
          "metadata": {
            "tags": []
          },
          "execution_count": 89
        }
      ]
    },
    {
      "cell_type": "code",
      "metadata": {
        "colab": {
          "base_uri": "https://localhost:8080/",
          "height": 295
        },
        "id": "iLZwgcNyQTrX",
        "outputId": "75b20511-0eb3-4b29-e239-fa904443e4fa"
      },
      "source": [
        "fpr, tpr, thresholds = roc_curve(y_test.ravel(),pred_prob_lr)\n",
        "roc_auc = auc(fpr,tpr)\n",
        "\n",
        "# Plot ROC\n",
        "plt.title('Receiver Operating Characteristic')\n",
        "plt.plot(fpr, tpr, 'b',label='AUC = %0.2f'% roc_auc)\n",
        "plt.legend(loc='lower right')\n",
        "plt.plot([0,1],[0,1],'r--')\n",
        "plt.xlim([-0.1,1.0])\n",
        "plt.ylim([-0.1,1.01])\n",
        "plt.ylabel('True Positive Rate')\n",
        "plt.xlabel('False Positive Rate')\n",
        "plt.show()"
      ],
      "execution_count": 90,
      "outputs": [
        {
          "output_type": "display_data",
          "data": {
            "image/png": "[encoded data removed]",
            "text/plain": [
              "<Figure size 432x288 with 1 Axes>"
            ]
          },
          "metadata": {
            "tags": [],
            "needs_background": "light"
          }
        }
      ]
    },
    {
      "cell_type": "code",
      "metadata": {
        "id": "bZbT6tAgQaSg"
      },
      "source": [
        ""
      ],
      "execution_count": null,
      "outputs": []
    },
    {
      "cell_type": "markdown",
      "metadata": {
        "id": "sfecKwzcQjhA"
      },
      "source": [
        "### CART Decision Tree"
      ]
    },
    {
      "cell_type": "code",
      "metadata": {
        "id": "BHfPd23_Ql8D"
      },
      "source": [
        "from sklearn.tree import DecisionTreeClassifier\n",
        "from sklearn import tree # for decision tree models\n",
        "\n",
        "import plotly.express as px  # for data visualization\n",
        "import plotly.graph_objects as go # for data visualization\n",
        "import graphviz # for plotting decision tree graphs"
      ],
      "execution_count": 95,
      "outputs": []
    },
    {
      "cell_type": "code",
      "metadata": {
        "id": "vjsm4fB7Qukq"
      },
      "source": [
        "cart_model = tree.DecisionTreeClassifier(splitter='best',max_depth=3,class_weight=None,min_samples_leaf=1000,random_state=0).fit(X_train_smote, y_train_smote)"
      ],
      "execution_count": 96,
      "outputs": []
    },
    {
      "cell_type": "code",
      "metadata": {
        "id": "BHBUWe4VQ0_J"
      },
      "source": [
        "y_train_pred_smote_cart = cart_model.predict(X_train_smote)\n",
        "y_test_CART_smote = cart_model.predict(X_test)\n",
        "pred_prob_cart =cart_model.predict_proba(X_test)[:,1]\n",
        "pred_prob_train_cart= cart_model.predict_proba(X_train_smote)[:,1]"
      ],
      "execution_count": 97,
      "outputs": []
    },
    {
      "cell_type": "code",
      "metadata": {
        "colab": {
          "base_uri": "https://localhost:8080/"
        },
        "id": "1cOrBTl0RGFN",
        "outputId": "0199f08b-131d-4ff1-cf01-99088aef773c"
      },
      "source": [
        "print(classification_report(y_train_smote, y_train_pred_smote_cart))\n",
        "print('Confusion Matrix - Training Dataset')\n",
        "print(pd.crosstab(y_train_smote, y_train_pred_smote_cart, rownames = ['True'], colnames = ['Predicted'], margins = True))"
      ],
      "execution_count": 98,
      "outputs": [
        {
          "output_type": "stream",
          "text": [
            "              precision    recall  f1-score   support\n",
            "\n",
            "           0       0.95      0.95      0.95    213236\n",
            "           1       0.95      0.95      0.95    213236\n",
            "\n",
            "    accuracy                           0.95    426472\n",
            "   macro avg       0.95      0.95      0.95    426472\n",
            "weighted avg       0.95      0.95      0.95    426472\n",
            "\n",
            "Confusion Matrix - Training Dataset\n",
            "Predicted       0       1     All\n",
            "True                             \n",
            "0          203129   10107  213236\n",
            "1           11523  201713  213236\n",
            "All        214652  211820  426472\n"
          ],
          "name": "stdout"
        }
      ]
    },
    {
      "cell_type": "code",
      "metadata": {
        "colab": {
          "base_uri": "https://localhost:8080/"
        },
        "id": "vmKSBI_rRM7v",
        "outputId": "cb13a79c-9c50-455c-b2a7-4f1d39273fa3"
      },
      "source": [
        "print(classification_report(y_test, y_test_CART_smote))\n",
        "print('Confusion Matrix - Training Dataset')\n",
        "print(pd.crosstab(y_test, y_test_CART_smote, rownames = ['True'], colnames = ['Predicted'], margins = True))"
      ],
      "execution_count": 99,
      "outputs": [
        {
          "output_type": "stream",
          "text": [
            "              precision    recall  f1-score   support\n",
            "\n",
            "           0       1.00      0.95      0.98     71079\n",
            "           1       0.03      0.85      0.06       123\n",
            "\n",
            "    accuracy                           0.95     71202\n",
            "   macro avg       0.52      0.90      0.52     71202\n",
            "weighted avg       1.00      0.95      0.97     71202\n",
            "\n",
            "Confusion Matrix - Training Dataset\n",
            "Predicted      0     1    All\n",
            "True                         \n",
            "0          67760  3319  71079\n",
            "1             19   104    123\n",
            "All        67779  3423  71202\n"
          ],
          "name": "stdout"
        }
      ]
    },
    {
      "cell_type": "code",
      "metadata": {
        "colab": {
          "base_uri": "https://localhost:8080/"
        },
        "id": "ZtOm7Qc6Ra-q",
        "outputId": "2d717820-d127-4b95-ae88-d4631d2e964a"
      },
      "source": [
        "roc_auc_score(y_test, pred_prob_cart)"
      ],
      "execution_count": 100,
      "outputs": [
        {
          "output_type": "execute_result",
          "data": {
            "text/plain": [
              "0.9209864050271785"
            ]
          },
          "metadata": {
            "tags": []
          },
          "execution_count": 100
        }
      ]
    },
    {
      "cell_type": "code",
      "metadata": {
        "colab": {
          "base_uri": "https://localhost:8080/",
          "height": 295
        },
        "id": "IRGmjayCRbk2",
        "outputId": "7c4458de-9735-4fc4-b80f-ca0925551c98"
      },
      "source": [
        "fpr, tpr, thresholds = roc_curve(y_test.ravel(),pred_prob_cart)\n",
        "roc_auc = auc(fpr,tpr)\n",
        "\n",
        "# Plot ROC\n",
        "plt.title('Receiver Operating Characteristic')\n",
        "plt.plot(fpr, tpr, 'b',label='AUC = %0.2f'% roc_auc)\n",
        "plt.legend(loc='lower right')\n",
        "plt.plot([0,1],[0,1],'r--')\n",
        "plt.xlim([-0.1,1.0])\n",
        "plt.ylim([-0.1,1.01])\n",
        "plt.ylabel('True Positive Rate')\n",
        "plt.xlabel('False Positive Rate')\n",
        "plt.show()"
      ],
      "execution_count": null,
      "outputs": [
        {
          "output_type": "display_data",
          "data": {
            "image/png": "[encoded data removed]",
            "text/plain": [
              "<Figure size 432x288 with 1 Axes>"
            ]
          },
          "metadata": {
            "tags": [],
            "needs_background": "light"
          }
        }
      ]
    },
    {
      "cell_type": "code",
      "metadata": {
        "id": "4mn_twsSRiaI"
      },
      "source": [
        ""
      ],
      "execution_count": null,
      "outputs": []
    },
    {
      "cell_type": "markdown",
      "metadata": {
        "id": "K1Km5DbcRi8k"
      },
      "source": [
        "### SVM"
      ]
    },
    {
      "cell_type": "code",
      "metadata": {
        "id": "3ORVcUonRkPx"
      },
      "source": [
        "from sklearn import svm\n",
        "classifier = svm.SVC(kernel='linear')"
      ],
      "execution_count": null,
      "outputs": []
    },
    {
      "cell_type": "code",
      "metadata": {
        "colab": {
          "base_uri": "https://localhost:8080/"
        },
        "id": "gpWrE3X1Rswq",
        "outputId": "e96c9efa-e053-40e9-c0d2-745bb1946c32"
      },
      "source": [
        "classifier.fit(X_train_smote, y_train_smote)  #probability take true"
      ],
      "execution_count": null,
      "outputs": [
        {
          "output_type": "execute_result",
          "data": {
            "text/plain": [
              "SVC(C=1.0, break_ties=False, cache_size=200, class_weight=None, coef0=0.0,\n",
              "    decision_function_shape='ovr', degree=3, gamma='scale', kernel='linear',\n",
              "    max_iter=-1, probability=False, random_state=None, shrinking=True,\n",
              "    tol=0.001, verbose=False)"
            ]
          },
          "metadata": {
            "tags": []
          },
          "execution_count": 0
        }
      ]
    },
    {
      "cell_type": "code",
      "metadata": {
        "colab": {
          "base_uri": "https://localhost:8080/",
          "height": 355
        },
        "id": "LP5p-CRnRu8Q",
        "outputId": "4974a77a-7e84-4bf7-9129-01f83f1d94cb"
      },
      "source": [
        "y_train_pred_smote_svm = classifier.predict(X_train_smote)\n",
        "y_test_SVM_smote = classifier.predict(X_test)\n",
        "pred_prob_svm =classifier.predict_proba(X_test)[:,1]\n",
        "pred_prob_train_svm= classifier.predict_proba(X_train_smote)[:,1]"
      ],
      "execution_count": null,
      "outputs": [
        {
          "output_type": "error",
          "ename": "AttributeError",
          "evalue": "ignored",
          "traceback": [
            "\u001b[0;31m---------------------------------------------------------------------------\u001b[0m",
            "\u001b[0;31mAttributeError\u001b[0m                            Traceback (most recent call last)",
            "\u001b[0;32m<ipython-input-120-304c0db08b9a>\u001b[0m in \u001b[0;36m<module>\u001b[0;34m()\u001b[0m\n\u001b[1;32m      1\u001b[0m \u001b[0my_train_pred_smote_svm\u001b[0m \u001b[0;34m=\u001b[0m \u001b[0mclassifier\u001b[0m\u001b[0;34m.\u001b[0m\u001b[0mpredict\u001b[0m\u001b[0;34m(\u001b[0m\u001b[0mX_train_smote\u001b[0m\u001b[0;34m)\u001b[0m\u001b[0;34m\u001b[0m\u001b[0;34m\u001b[0m\u001b[0m\n\u001b[1;32m      2\u001b[0m \u001b[0my_test_SVM_smote\u001b[0m \u001b[0;34m=\u001b[0m \u001b[0mclassifier\u001b[0m\u001b[0;34m.\u001b[0m\u001b[0mpredict\u001b[0m\u001b[0;34m(\u001b[0m\u001b[0mX_test\u001b[0m\u001b[0;34m)\u001b[0m\u001b[0;34m\u001b[0m\u001b[0;34m\u001b[0m\u001b[0m\n\u001b[0;32m----> 3\u001b[0;31m \u001b[0mpred_prob_svm\u001b[0m \u001b[0;34m=\u001b[0m\u001b[0mclassifier\u001b[0m\u001b[0;34m.\u001b[0m\u001b[0mpredict_proba\u001b[0m\u001b[0;34m(\u001b[0m\u001b[0mX_test\u001b[0m\u001b[0;34m)\u001b[0m\u001b[0;34m[\u001b[0m\u001b[0;34m:\u001b[0m\u001b[0;34m,\u001b[0m\u001b[0;36m1\u001b[0m\u001b[0;34m]\u001b[0m\u001b[0;34m\u001b[0m\u001b[0;34m\u001b[0m\u001b[0m\n\u001b[0m\u001b[1;32m      4\u001b[0m \u001b[0mpred_prob_train_svm\u001b[0m\u001b[0;34m=\u001b[0m \u001b[0mclassifier\u001b[0m\u001b[0;34m.\u001b[0m\u001b[0mpredict_proba\u001b[0m\u001b[0;34m(\u001b[0m\u001b[0mX_train_smote\u001b[0m\u001b[0;34m)\u001b[0m\u001b[0;34m[\u001b[0m\u001b[0;34m:\u001b[0m\u001b[0;34m,\u001b[0m\u001b[0;36m1\u001b[0m\u001b[0;34m]\u001b[0m\u001b[0;34m\u001b[0m\u001b[0;34m\u001b[0m\u001b[0m\n",
            "\u001b[0;32m/usr/local/lib/python3.7/dist-packages/sklearn/svm/_base.py\u001b[0m in \u001b[0;36mpredict_proba\u001b[0;34m(self)\u001b[0m\n\u001b[1;32m    634\u001b[0m         \u001b[0mdatasets\u001b[0m\u001b[0;34m.\u001b[0m\u001b[0;34m\u001b[0m\u001b[0;34m\u001b[0m\u001b[0m\n\u001b[1;32m    635\u001b[0m         \"\"\"\n\u001b[0;32m--> 636\u001b[0;31m         \u001b[0mself\u001b[0m\u001b[0;34m.\u001b[0m\u001b[0m_check_proba\u001b[0m\u001b[0;34m(\u001b[0m\u001b[0;34m)\u001b[0m\u001b[0;34m\u001b[0m\u001b[0;34m\u001b[0m\u001b[0m\n\u001b[0m\u001b[1;32m    637\u001b[0m         \u001b[0;32mreturn\u001b[0m \u001b[0mself\u001b[0m\u001b[0;34m.\u001b[0m\u001b[0m_predict_proba\u001b[0m\u001b[0;34m\u001b[0m\u001b[0;34m\u001b[0m\u001b[0m\n\u001b[1;32m    638\u001b[0m \u001b[0;34m\u001b[0m\u001b[0m\n",
            "\u001b[0;32m/usr/local/lib/python3.7/dist-packages/sklearn/svm/_base.py\u001b[0m in \u001b[0;36m_check_proba\u001b[0;34m(self)\u001b[0m\n\u001b[1;32m    601\u001b[0m     \u001b[0;32mdef\u001b[0m \u001b[0m_check_proba\u001b[0m\u001b[0;34m(\u001b[0m\u001b[0mself\u001b[0m\u001b[0;34m)\u001b[0m\u001b[0;34m:\u001b[0m\u001b[0;34m\u001b[0m\u001b[0;34m\u001b[0m\u001b[0m\n\u001b[1;32m    602\u001b[0m         \u001b[0;32mif\u001b[0m \u001b[0;32mnot\u001b[0m \u001b[0mself\u001b[0m\u001b[0;34m.\u001b[0m\u001b[0mprobability\u001b[0m\u001b[0;34m:\u001b[0m\u001b[0;34m\u001b[0m\u001b[0;34m\u001b[0m\u001b[0m\n\u001b[0;32m--> 603\u001b[0;31m             raise AttributeError(\"predict_proba is not available when \"\n\u001b[0m\u001b[1;32m    604\u001b[0m                                  \" probability=False\")\n\u001b[1;32m    605\u001b[0m         \u001b[0;32mif\u001b[0m \u001b[0mself\u001b[0m\u001b[0;34m.\u001b[0m\u001b[0m_impl\u001b[0m \u001b[0;32mnot\u001b[0m \u001b[0;32min\u001b[0m \u001b[0;34m(\u001b[0m\u001b[0;34m'c_svc'\u001b[0m\u001b[0;34m,\u001b[0m \u001b[0;34m'nu_svc'\u001b[0m\u001b[0;34m)\u001b[0m\u001b[0;34m:\u001b[0m\u001b[0;34m\u001b[0m\u001b[0;34m\u001b[0m\u001b[0m\n",
            "\u001b[0;31mAttributeError\u001b[0m: predict_proba is not available when  probability=False"
          ]
        }
      ]
    },
    {
      "cell_type": "code",
      "metadata": {
        "colab": {
          "base_uri": "https://localhost:8080/"
        },
        "id": "zS5dbz3xR-PG",
        "outputId": "3912e2de-463b-4c14-ab03-ace4c8bbb751"
      },
      "source": [
        "print(classification_report(y_train_smote, y_train_pred_smote_svm))\n",
        "print('Confusion Matrix - Training Dataset')\n",
        "print(pd.crosstab(y_train_smote, y_train_pred_smote_svm, rownames = ['True'], colnames = ['Predicted'], margins = True))"
      ],
      "execution_count": null,
      "outputs": [
        {
          "output_type": "stream",
          "text": [
            "              precision    recall  f1-score   support\n",
            "\n",
            "           0       0.93      0.98      0.96    213236\n",
            "           1       0.98      0.93      0.95    213236\n",
            "\n",
            "    accuracy                           0.96    426472\n",
            "   macro avg       0.96      0.96      0.96    426472\n",
            "weighted avg       0.96      0.96      0.96    426472\n",
            "\n",
            "Confusion Matrix - Training Dataset\n",
            "Predicted       0       1     All\n",
            "True                             \n",
            "0          208969    4267  213236\n",
            "1           14583  198653  213236\n",
            "All        223552  202920  426472\n"
          ],
          "name": "stdout"
        }
      ]
    },
    {
      "cell_type": "code",
      "metadata": {
        "colab": {
          "base_uri": "https://localhost:8080/"
        },
        "id": "kipgSo0JSBYR",
        "outputId": "778a2397-0830-44cd-bbb4-2b294080dd17"
      },
      "source": [
        "print(classification_report(y_test, y_test_SVM_smote))\n",
        "print('Confusion Matrix - Training Dataset')\n",
        "print(pd.crosstab(y_test, y_test_CART_smote, rownames = ['True'], colnames = ['Predicted'], margins = True))"
      ],
      "execution_count": null,
      "outputs": [
        {
          "output_type": "stream",
          "text": [
            "              precision    recall  f1-score   support\n",
            "\n",
            "           0       1.00      0.98      0.99     71079\n",
            "           1       0.07      0.88      0.13       123\n",
            "\n",
            "    accuracy                           0.98     71202\n",
            "   macro avg       0.54      0.93      0.56     71202\n",
            "weighted avg       1.00      0.98      0.99     71202\n",
            "\n",
            "Confusion Matrix - Training Dataset\n",
            "Predicted      0     1    All\n",
            "True                         \n",
            "0          67760  3319  71079\n",
            "1             19   104    123\n",
            "All        67779  3423  71202\n"
          ],
          "name": "stdout"
        }
      ]
    },
    {
      "cell_type": "code",
      "metadata": {
        "colab": {
          "base_uri": "https://localhost:8080/"
        },
        "id": "TflnPvgGSDfC",
        "outputId": "554ccb9d-62e8-411d-a17c-1cf5ce9bd0a9"
      },
      "source": [
        "roc_auc_score(y_test, y_test_SVM_smote)"
      ],
      "execution_count": null,
      "outputs": [
        {
          "output_type": "execute_result",
          "data": {
            "text/plain": [
              "0.9291339866085108"
            ]
          },
          "metadata": {
            "tags": []
          },
          "execution_count": 158
        }
      ]
    },
    {
      "cell_type": "code",
      "metadata": {
        "colab": {
          "base_uri": "https://localhost:8080/",
          "height": 295
        },
        "id": "EkfN4VBrSF3i",
        "outputId": "50bde86f-4c05-414a-f8f6-519293b0402d"
      },
      "source": [
        "fpr, tpr, thresholds = roc_curve(y_test.ravel(),y_test_SVM_smote)\n",
        "roc_auc = auc(fpr,tpr)\n",
        "\n",
        "# Plot ROC\n",
        "plt.title('Receiver Operating Characteristic')\n",
        "plt.plot(fpr, tpr, 'b',label='AUC = %0.2f'% roc_auc)\n",
        "plt.legend(loc='lower right')\n",
        "plt.plot([0,1],[0,1],'r--')\n",
        "plt.xlim([-0.1,1.0])\n",
        "plt.ylim([-0.1,1.01])\n",
        "plt.ylabel('True Positive Rate')\n",
        "plt.xlabel('False Positive Rate')\n",
        "plt.show()"
      ],
      "execution_count": null,
      "outputs": [
        {
          "output_type": "display_data",
          "data": {
            "image/png": "[encoded data removed]",
            "text/plain": [
              "<Figure size 432x288 with 1 Axes>"
            ]
          },
          "metadata": {
            "tags": [],
            "needs_background": "light"
          }
        }
      ]
    },
    {
      "cell_type": "markdown",
      "metadata": {
        "id": "mt9ffpnISHiE"
      },
      "source": [
        "Manually selectring logistic regression weight"
      ]
    },
    {
      "cell_type": "code",
      "metadata": {
        "colab": {
          "base_uri": "https://localhost:8080/",
          "height": 229
        },
        "id": "g3E4TA7qSNVO",
        "outputId": "d6ee99a1-74c5-471d-c59c-b218aee84dfe"
      },
      "source": [
        "from sklearn.metrics import plot_roc_curve\n",
        "\n",
        "classifiers = [logistic_smote, rfc, cart_model, cat_model,lgb_model ]\n",
        "ax = plt.gca()\n",
        "for i in classifiers:\n",
        "    plot_roc_curve(i, X_test, y_test, ax=ax)"
      ],
      "execution_count": null,
      "outputs": [
        {
          "output_type": "error",
          "ename": "NameError",
          "evalue": "ignored",
          "traceback": [
            "\u001b[0;31m---------------------------------------------------------------------------\u001b[0m",
            "\u001b[0;31mNameError\u001b[0m                                 Traceback (most recent call last)",
            "\u001b[0;32m<ipython-input-2-50209b88dff9>\u001b[0m in \u001b[0;36m<module>\u001b[0;34m()\u001b[0m\n\u001b[1;32m      1\u001b[0m \u001b[0;32mfrom\u001b[0m \u001b[0msklearn\u001b[0m\u001b[0;34m.\u001b[0m\u001b[0mmetrics\u001b[0m \u001b[0;32mimport\u001b[0m \u001b[0mplot_roc_curve\u001b[0m\u001b[0;34m\u001b[0m\u001b[0;34m\u001b[0m\u001b[0m\n\u001b[1;32m      2\u001b[0m \u001b[0;34m\u001b[0m\u001b[0m\n\u001b[0;32m----> 3\u001b[0;31m \u001b[0mclassifiers\u001b[0m \u001b[0;34m=\u001b[0m \u001b[0;34m[\u001b[0m\u001b[0mlogistic_smote\u001b[0m\u001b[0;34m,\u001b[0m \u001b[0mrfc\u001b[0m\u001b[0;34m,\u001b[0m \u001b[0mcart_model\u001b[0m\u001b[0;34m,\u001b[0m \u001b[0mcat_model\u001b[0m\u001b[0;34m,\u001b[0m\u001b[0mlgb_model\u001b[0m \u001b[0;34m]\u001b[0m\u001b[0;34m\u001b[0m\u001b[0;34m\u001b[0m\u001b[0m\n\u001b[0m\u001b[1;32m      4\u001b[0m \u001b[0max\u001b[0m \u001b[0;34m=\u001b[0m \u001b[0mplt\u001b[0m\u001b[0;34m.\u001b[0m\u001b[0mgca\u001b[0m\u001b[0;34m(\u001b[0m\u001b[0;34m)\u001b[0m\u001b[0;34m\u001b[0m\u001b[0;34m\u001b[0m\u001b[0m\n\u001b[1;32m      5\u001b[0m \u001b[0;32mfor\u001b[0m \u001b[0mi\u001b[0m \u001b[0;32min\u001b[0m \u001b[0mclassifiers\u001b[0m\u001b[0;34m:\u001b[0m\u001b[0;34m\u001b[0m\u001b[0;34m\u001b[0m\u001b[0m\n",
            "\u001b[0;31mNameError\u001b[0m: name 'logistic_smote' is not defined"
          ]
        }
      ]
    },
    {
      "cell_type": "code",
      "metadata": {
        "id": "f8Mbe-ffDfYO"
      },
      "source": [
        "blender = LogisticRegression()\n",
        "from numpy import hstack"
      ],
      "execution_count": null,
      "outputs": []
    },
    {
      "cell_type": "code",
      "metadata": {
        "id": "F9ATNMvWJfOw",
        "colab": {
          "base_uri": "https://localhost:8080/",
          "height": 229
        },
        "outputId": "90e8ed8d-5e87-44a9-b449-7125b9a1d4c4"
      },
      "source": [
        "\n",
        "preds_y= [y_test_LR_smote,y_test_CART_smote,y_test_RFC_smote,y_test_CAT_smote ]\n",
        "meta_X = list()\n",
        "new=list()\n",
        "for i in preds_y:\n",
        "  meta_X=preds_y\n",
        "  \n",
        "meta_X = hstack(meta_X,meta_X)\n",
        "meta_X.ndim"
      ],
      "execution_count": null,
      "outputs": [
        {
          "output_type": "error",
          "ename": "NameError",
          "evalue": "ignored",
          "traceback": [
            "\u001b[0;31m---------------------------------------------------------------------------\u001b[0m",
            "\u001b[0;31mNameError\u001b[0m                                 Traceback (most recent call last)",
            "\u001b[0;32m<ipython-input-1-09da4eb4eb4a>\u001b[0m in \u001b[0;36m<module>\u001b[0;34m()\u001b[0m\n\u001b[1;32m      1\u001b[0m \u001b[0;34m\u001b[0m\u001b[0m\n\u001b[0;32m----> 2\u001b[0;31m \u001b[0mpreds_y\u001b[0m\u001b[0;34m=\u001b[0m \u001b[0;34m[\u001b[0m\u001b[0my_test_LR_smote\u001b[0m\u001b[0;34m,\u001b[0m\u001b[0my_test_CART_smote\u001b[0m\u001b[0;34m,\u001b[0m\u001b[0my_test_RFC_smote\u001b[0m\u001b[0;34m,\u001b[0m\u001b[0my_test_CAT_smote\u001b[0m \u001b[0;34m]\u001b[0m\u001b[0;34m\u001b[0m\u001b[0;34m\u001b[0m\u001b[0m\n\u001b[0m\u001b[1;32m      3\u001b[0m \u001b[0mmeta_X\u001b[0m \u001b[0;34m=\u001b[0m \u001b[0mlist\u001b[0m\u001b[0;34m(\u001b[0m\u001b[0;34m)\u001b[0m\u001b[0;34m\u001b[0m\u001b[0;34m\u001b[0m\u001b[0m\n\u001b[1;32m      4\u001b[0m \u001b[0mnew\u001b[0m\u001b[0;34m=\u001b[0m\u001b[0mlist\u001b[0m\u001b[0;34m(\u001b[0m\u001b[0;34m)\u001b[0m\u001b[0;34m\u001b[0m\u001b[0;34m\u001b[0m\u001b[0m\n\u001b[1;32m      5\u001b[0m \u001b[0;32mfor\u001b[0m \u001b[0mi\u001b[0m \u001b[0;32min\u001b[0m \u001b[0mpreds_y\u001b[0m\u001b[0;34m:\u001b[0m\u001b[0;34m\u001b[0m\u001b[0;34m\u001b[0m\u001b[0m\n",
            "\u001b[0;31mNameError\u001b[0m: name 'y_test_LR_smote' is not defined"
          ]
        }
      ]
    },
    {
      "cell_type": "code",
      "metadata": {
        "id": "7S8Z-tkPMRHn",
        "colab": {
          "base_uri": "https://localhost:8080/",
          "height": 305
        },
        "outputId": "fb5ef342-117d-4d10-83ae-9f300989ca79"
      },
      "source": [
        "print(classification_report(y_test, meta_X))"
      ],
      "execution_count": null,
      "outputs": [
        {
          "output_type": "error",
          "ename": "ValueError",
          "evalue": "ignored",
          "traceback": [
            "\u001b[0;31m---------------------------------------------------------------------------\u001b[0m",
            "\u001b[0;31mValueError\u001b[0m                                Traceback (most recent call last)",
            "\u001b[0;32m<ipython-input-213-87fb8488fdf6>\u001b[0m in \u001b[0;36m<module>\u001b[0;34m()\u001b[0m\n\u001b[0;32m----> 1\u001b[0;31m \u001b[0mprint\u001b[0m\u001b[0;34m(\u001b[0m\u001b[0mclassification_report\u001b[0m\u001b[0;34m(\u001b[0m\u001b[0my_test\u001b[0m\u001b[0;34m,\u001b[0m \u001b[0mmeta_X\u001b[0m\u001b[0;34m)\u001b[0m\u001b[0;34m)\u001b[0m\u001b[0;34m\u001b[0m\u001b[0;34m\u001b[0m\u001b[0m\n\u001b[0m",
            "\u001b[0;32m/usr/local/lib/python3.7/dist-packages/sklearn/metrics/_classification.py\u001b[0m in \u001b[0;36mclassification_report\u001b[0;34m(y_true, y_pred, labels, target_names, sample_weight, digits, output_dict, zero_division)\u001b[0m\n\u001b[1;32m   1969\u001b[0m     \"\"\"\n\u001b[1;32m   1970\u001b[0m \u001b[0;34m\u001b[0m\u001b[0m\n\u001b[0;32m-> 1971\u001b[0;31m     \u001b[0my_type\u001b[0m\u001b[0;34m,\u001b[0m \u001b[0my_true\u001b[0m\u001b[0;34m,\u001b[0m \u001b[0my_pred\u001b[0m \u001b[0;34m=\u001b[0m \u001b[0m_check_targets\u001b[0m\u001b[0;34m(\u001b[0m\u001b[0my_true\u001b[0m\u001b[0;34m,\u001b[0m \u001b[0my_pred\u001b[0m\u001b[0;34m)\u001b[0m\u001b[0;34m\u001b[0m\u001b[0;34m\u001b[0m\u001b[0m\n\u001b[0m\u001b[1;32m   1972\u001b[0m \u001b[0;34m\u001b[0m\u001b[0m\n\u001b[1;32m   1973\u001b[0m     \u001b[0mlabels_given\u001b[0m \u001b[0;34m=\u001b[0m \u001b[0;32mTrue\u001b[0m\u001b[0;34m\u001b[0m\u001b[0;34m\u001b[0m\u001b[0m\n",
            "\u001b[0;32m/usr/local/lib/python3.7/dist-packages/sklearn/metrics/_classification.py\u001b[0m in \u001b[0;36m_check_targets\u001b[0;34m(y_true, y_pred)\u001b[0m\n\u001b[1;32m     78\u001b[0m     \u001b[0my_pred\u001b[0m \u001b[0;34m:\u001b[0m \u001b[0marray\u001b[0m \u001b[0;32mor\u001b[0m \u001b[0mindicator\u001b[0m \u001b[0mmatrix\u001b[0m\u001b[0;34m\u001b[0m\u001b[0;34m\u001b[0m\u001b[0m\n\u001b[1;32m     79\u001b[0m     \"\"\"\n\u001b[0;32m---> 80\u001b[0;31m     \u001b[0mcheck_consistent_length\u001b[0m\u001b[0;34m(\u001b[0m\u001b[0my_true\u001b[0m\u001b[0;34m,\u001b[0m \u001b[0my_pred\u001b[0m\u001b[0;34m)\u001b[0m\u001b[0;34m\u001b[0m\u001b[0;34m\u001b[0m\u001b[0m\n\u001b[0m\u001b[1;32m     81\u001b[0m     \u001b[0mtype_true\u001b[0m \u001b[0;34m=\u001b[0m \u001b[0mtype_of_target\u001b[0m\u001b[0;34m(\u001b[0m\u001b[0my_true\u001b[0m\u001b[0;34m)\u001b[0m\u001b[0;34m\u001b[0m\u001b[0;34m\u001b[0m\u001b[0m\n\u001b[1;32m     82\u001b[0m     \u001b[0mtype_pred\u001b[0m \u001b[0;34m=\u001b[0m \u001b[0mtype_of_target\u001b[0m\u001b[0;34m(\u001b[0m\u001b[0my_pred\u001b[0m\u001b[0;34m)\u001b[0m\u001b[0;34m\u001b[0m\u001b[0;34m\u001b[0m\u001b[0m\n",
            "\u001b[0;32m/usr/local/lib/python3.7/dist-packages/sklearn/utils/validation.py\u001b[0m in \u001b[0;36mcheck_consistent_length\u001b[0;34m(*arrays)\u001b[0m\n\u001b[1;32m    210\u001b[0m     \u001b[0;32mif\u001b[0m \u001b[0mlen\u001b[0m\u001b[0;34m(\u001b[0m\u001b[0muniques\u001b[0m\u001b[0;34m)\u001b[0m \u001b[0;34m>\u001b[0m \u001b[0;36m1\u001b[0m\u001b[0;34m:\u001b[0m\u001b[0;34m\u001b[0m\u001b[0;34m\u001b[0m\u001b[0m\n\u001b[1;32m    211\u001b[0m         raise ValueError(\"Found input variables with inconsistent numbers of\"\n\u001b[0;32m--> 212\u001b[0;31m                          \" samples: %r\" % [int(l) for l in lengths])\n\u001b[0m\u001b[1;32m    213\u001b[0m \u001b[0;34m\u001b[0m\u001b[0m\n\u001b[1;32m    214\u001b[0m \u001b[0;34m\u001b[0m\u001b[0m\n",
            "\u001b[0;31mValueError\u001b[0m: Found input variables with inconsistent numbers of samples: [71202, 284808]"
          ]
        }
      ]
    },
    {
      "cell_type": "markdown",
      "metadata": {
        "id": "UQXeOe8oQ4wB"
      },
      "source": [
        "### Blending"
      ]
    },
    {
      "cell_type": "code",
      "metadata": {
        "id": "fOGlQyMFQ3uI",
        "colab": {
          "base_uri": "https://localhost:8080/"
        },
        "outputId": "6ba0a50e-4eba-49b4-9b8c-38358ae43454"
      },
      "source": [
        "import numpy as np\n",
        "from sklearn.datasets import load_breast_cancer\n",
        "from sklearn.model_selection import train_test_split\n",
        "from sklearn.metrics import recall_score\n",
        "from sklearn.tree import DecisionTreeClassifier\n",
        "from sklearn.ensemble import RandomForestClassifier\n",
        "from sklearn.neighbors import KNeighborsClassifier\n",
        "from lightgbm import LGBMClassifier\n",
        "from sklearn.naive_bayes import GaussianNB\n",
        "from sklearn.linear_model import LogisticRegression\n",
        "\n",
        "class Ensemble:\n",
        "    def __init__(self):\n",
        "        self.x_train = None\n",
        "        self.X_test = None\n",
        "        self.y_train = None\n",
        "        self.y_test = None\n",
        "\n",
        "    def load_data(self):\n",
        "        #x, y = load_breast_cancer(return_X_y=True)\n",
        "        self.X_test, self.y_test = X_test, y_test\n",
        "        self.X_train_smote, self.y_train_smote = X_train_smote, y_train_smote\n",
        "        #self.x_train, self.x_test, self.y_train, self.y_test = train_test_split(x, y, test_size=0.15, random_state=23)\n",
        "        self.x_train, self.x_val, self.y_train, self.y_val = train_test_split(self.X_train_smote, self.y_train_smote, test_size=0.3, random_state=23)\n",
        "    \n",
        "    def BlendingClassifier(self):\n",
        "\n",
        "        # Define weak learners\n",
        "        weak_learners = [('cat', CatBoostClassifier(eval_metric='AUC', verbose=100)),\n",
        "                        ('rf', RandomForestClassifier()),\n",
        "                        ('cart', tree.DecisionTreeClassifier(splitter='best',max_depth=3,class_weight=None,min_samples_leaf=1000,random_state=0)),\n",
        "                        ('lgb', LGBMClassifier(n_jobs=-1,num_threads=16,max_depth=7, random_state=17)),\n",
        "                        ('gn', GaussianNB())]\n",
        "        \n",
        "        # Finaler learner or meta model\n",
        "        final_learner = LogisticRegression()\n",
        "\n",
        "        train_meta_model = None\n",
        "        test_meta_model = None\n",
        "\n",
        "        # Start stacking\n",
        "        for clf_id, clf in weak_learners:\n",
        "            \n",
        "            # Predictions for each classifier based on k-fold\n",
        "            val_predictions, test_predictions = self.train_level_0(clf)\n",
        "            \n",
        "            # Stack predictions which will form \n",
        "            # the inputa data for the data model\n",
        "            if isinstance(train_meta_model, np.ndarray):\n",
        "                train_meta_model = np.vstack((train_meta_model, val_predictions))\n",
        "            else:\n",
        "                train_meta_model = val_predictions\n",
        "\n",
        "            # Stack predictions from test set\n",
        "            # which will form test data for meta model\n",
        "            if isinstance(test_meta_model, np.ndarray):\n",
        "                test_meta_model = np.vstack((test_meta_model, test_predictions))\n",
        "            else:\n",
        "                test_meta_model = test_predictions\n",
        "        \n",
        "        # Transpose train_meta_model\n",
        "        train_meta_model = train_meta_model.T\n",
        "\n",
        "        # Transpose test_meta_model\n",
        "        test_meta_model = test_meta_model.T\n",
        "        \n",
        "        # Training level 1\n",
        "        self.train_level_1(final_learner, train_meta_model, test_meta_model)\n",
        "\n",
        "\n",
        "    def train_level_0(self, clf):\n",
        "        # Train with base x_train\n",
        "        clf.fit(self.x_train, self.y_train)\n",
        "        \n",
        "        # Generate predictions for the holdout set (validation)\n",
        "        # These predictions will build the input for the meta model\n",
        "        val_predictions = clf.predict(self.x_val)\n",
        "        \n",
        "        # Generate predictions for original test set\n",
        "        # These predictions will be used to test the meta model\n",
        "        test_predictions = clf.predict(self.X_test)\n",
        "\n",
        "        return val_predictions, test_predictions\n",
        "\n",
        "    def train_level_1(self, final_learner, train_meta_model, test_meta_model):\n",
        "        # Train is carried out with final learner or meta model\n",
        "        final_learner.fit(train_meta_model, self.y_val)\n",
        "        #final_learner.predict(self.X_test)\n",
        "        # Getting train and test accuracies from meta_model\n",
        "        y_probability = final_learner.predict_proba(test_meta_model)\n",
        "      \n",
        "        print(f\"Train accuracy: {final_learner.score(train_meta_model,  self.y_val)}\")\n",
        "        print(f\"Test accuracy: {final_learner.score(test_meta_model, self.y_test)}\")\n",
        "        y_probability_first = [x[1] for x in y_probability]\n",
        "        test_auc = metrics.roc_auc_score(self.y_test,y_probability_first)\n",
        "        kappa = evaluate_method.get_kappa(self.y_test, y_probability_first)\n",
        "        print(' kappa = '+ str(kappa))\n",
        "        #IOA = evaluate_method.get_IOA(self.y_test, y_probability_first)\n",
        "        MCC = evaluate_method.get_mcc(self.y_test, y_probability_first)\n",
        "        print(\"MCC = \" + str(MCC))\n",
        "        recall = evaluate_method.get_recall(self.y_test, y_probability_first)\n",
        "        print(\"recall = \" + str(recall))\n",
        "        precision = evaluate_method.get_precision(self.y_test, y_probability_first)\n",
        "        print(' precision = '+ str(precision))\n",
        "        f1 = evaluate_method.get_f1(self.y_test, y_probability_first)\n",
        "\n",
        "        #print(\"ACC = \" + str(accuracy))\n",
        "        #print(\"AUC = \" + str(test_auc))\n",
        "        \n",
        "        #print(\"IOA = \" + str(IOA))\n",
        "       \n",
        "        \n",
        "        \n",
        "        print(\"f1 = \" + str(f1))\n",
        "        #print(f\"Test accuracy: {final_learner.recall_macro(test_meta_model, self.y_test)}\")\n",
        "        #print(classification_report( self.y_test, final_learner.predict(self.X_test)))\n",
        "        #rint('Confusion Matrix - Training Dataset')\n",
        "        #print(pd.crosstab(self.y_test, final_learner.predict(self.X_test),  rownames = ['True'], colnames = ['Predicted'], margins = True))\n",
        "    \n",
        "      \n",
        "\n",
        "if __name__ == \"__main__\":\n",
        "    ensemble = Ensemble()\n",
        "    ensemble.load_data()\n",
        "    ensemble.BlendingClassifier()"
      ],
      "execution_count": null,
      "outputs": [
        {
          "output_type": "stream",
          "text": [
            "Learning rate set to 0.117423\n",
            "0:\ttotal: 136ms\tremaining: 2m 16s\n",
            "100:\ttotal: 12.5s\tremaining: 1m 51s\n",
            "200:\ttotal: 24.4s\tremaining: 1m 36s\n",
            "300:\ttotal: 35.2s\tremaining: 1m 21s\n",
            "400:\ttotal: 45.1s\tremaining: 1m 7s\n",
            "500:\ttotal: 55.3s\tremaining: 55.1s\n",
            "600:\ttotal: 1m 4s\tremaining: 43.1s\n",
            "700:\ttotal: 1m 13s\tremaining: 31.6s\n",
            "800:\ttotal: 1m 21s\tremaining: 20.3s\n",
            "900:\ttotal: 1m 29s\tremaining: 9.83s\n",
            "999:\ttotal: 1m 37s\tremaining: 0us\n"
          ],
          "name": "stdout"
        },
        {
          "output_type": "stream",
          "text": [
            "/usr/local/lib/python3.7/dist-packages/numpy/core/_methods.py:192: RuntimeWarning:\n",
            "\n",
            "overflow encountered in reduce\n",
            "\n",
            "/usr/local/lib/python3.7/dist-packages/numpy/core/_methods.py:216: RuntimeWarning:\n",
            "\n",
            "overflow encountered in reduce\n",
            "\n",
            "/usr/local/lib/python3.7/dist-packages/numpy/core/_methods.py:205: RuntimeWarning:\n",
            "\n",
            "overflow encountered in multiply\n",
            "\n"
          ],
          "name": "stderr"
        },
        {
          "output_type": "stream",
          "text": [
            "Train accuracy: 0.9998749433336981\n",
            "Test accuracy: 0.9994943962248252\n",
            " kappa = 0.8459012951935324\n",
            "MCC = 0.8470194594725743\n",
            "recall = 0.8048780487804879\n",
            " precision = 0.8918918918918919\n",
            "f1 = 0.8461538461538461\n"
          ],
          "name": "stdout"
        }
      ]
    },
    {
      "cell_type": "code",
      "metadata": {
        "id": "VoI0lRCPyjxr"
      },
      "source": [
        "# Code source: Zhice Fang\n",
        "\n",
        "from sklearn import metrics\n",
        "import numpy as np\n",
        "from scipy.stats import ks_2samp\n",
        "class evaluate_method:\n",
        "  \n",
        "  def mixup(x, y, alpha):\n",
        "      candidates_data, candidates_label = x, y\n",
        "  #        offset = (step * batch_size) % (candidates_data.shape[0] - batch_size)\n",
        "  #        train_features_batch = candidates_data[offset:(offset + batch_size)]\n",
        "  #        train_labels_batch = candidates_label[offset:(offset + batch_size)]\n",
        "      train_features_batch=x\n",
        "      train_labels_batch=y\n",
        "      shape=np.shape(train_features_batch)\n",
        "      if alpha == 0:\n",
        "          return train_features_batch, train_labels_batch\n",
        "      if alpha > 0:\n",
        "          weight = np.random.beta(alpha, alpha, shape[0])\n",
        "          x_weight = weight.reshape(shape[0], 1,1)\n",
        "          y_weight = weight.reshape(shape[0], 1)\n",
        "          index = np.random.permutation(shape[0])\n",
        "          x1, x2 = train_features_batch, train_features_batch[index]\n",
        "          x = x1 * x_weight + x2 * (1 - x_weight)\n",
        "          y1, y2 = train_labels_batch, train_labels_batch[index]\n",
        "          y = y1 * y_weight + y2 * (1 - y_weight)\n",
        "          return x, y\n",
        "\n",
        "  def data_aug_mixup(train_x, train_y, alpha, number):\n",
        "      train_x_aug = train_x\n",
        "      train_y_aug = train_y\n",
        "      for i in range(number):\n",
        "          x, y = mixup(train_x, train_y, alpha)\n",
        "          train_x_aug = np.concatenate((train_x_aug, x), axis=0)\n",
        "          train_y_aug = np.concatenate((train_y_aug, y), axis=0)\n",
        "      return train_x_aug, train_y_aug\n",
        "\n",
        "  def pre_class(y_probability):\n",
        "      pred_class = []\n",
        "      for i in y_probability:\n",
        "          if i > 0.5:\n",
        "              pred_class.append(1)\n",
        "          else:\n",
        "              pred_class.append(0)\n",
        "      return pred_class\n",
        "\n",
        "  def get_auc(y_real, y_probability):\n",
        "      return metrics.roc_auc_score(y_real, y_probability)\n",
        "\n",
        "  def get_acc(y_real, y_probability):\n",
        "      pred_class = pre_class(y_probability)\n",
        "      return metrics.accuracy_score(y_real, pred_class)\n",
        "\n",
        "\n",
        "  def get_precision(y_real, y_probability):\n",
        "      pred_class = pre_class(y_probability)\n",
        "      return metrics.precision_score(y_real,pred_class)\n",
        "\n",
        "  def get_recall(y_real, y_probability):\n",
        "      pred_class = pre_class(y_probability)\n",
        "      return metrics.recall_score(y_real, pred_class)\n",
        "\n",
        "  def get_f1(y_real, y_probability):\n",
        "      pred_class = pre_class(y_probability)\n",
        "      return metrics.f1_score(y_real, pred_class)\n",
        "\n",
        "  def get_mcc(y_real, y_probability):\n",
        "      pred_class = pre_class(y_probability)\n",
        "      return metrics.matthews_corrcoef(y_real, pred_class)\n",
        "\n",
        "  def AIC(y_real, y_probability, k, n):\n",
        "      '''赤池信息准则\n",
        "      :param y_real:\n",
        "      :param y_probability:\n",
        "      :param k: number of features\n",
        "      :param n: number of sample\n",
        "      :return:\n",
        "      '''\n",
        "      pred_class = pre_class(y_probability)\n",
        "      resid = y_real - pred_class\n",
        "      SSR = sum(resid ** 2)\n",
        "      # AICValue = 2*k+n*np.log(float(SSR)/n)\n",
        "      AICValue = k*np.log(n) + n*np.log(float(SSR)/n)\n",
        "      return AICValue\n",
        "\n",
        "  def get_RMSE(y_real, y_probability):\n",
        "      pred_class = pre_class(y_probability)\n",
        "      mse = metrics.mean_squared_error(y_real, pred_class)\n",
        "      return mse**0.5\n",
        "\n",
        "  def get_MAE(y_real, y_probability):\n",
        "      pred_class = pre_class(y_probability)\n",
        "      mae = metrics.mean_absolute_error(y_real, pred_class)\n",
        "      return mae\n",
        "\n",
        "  def get_kappa(y_real, y_probability):\n",
        "      pred_class = pre_class(y_probability)\n",
        "      kappa = metrics.cohen_kappa_score(y_real, pred_class)\n",
        "      return kappa\n",
        "\n",
        "  def ks_calc_auc(y_real, y_probability_first):\n",
        "      fpr, tpr, thresholds = metrics.roc_curve(y_real, y_probability_first)\n",
        "      ks = max(tpr-fpr)\n",
        "      return ks\n",
        "\n",
        "  def get_ROC(data_input_y,y_probability,save_path):\n",
        "      fpr, tpr, thresholds = metrics.roc_curve(data_input_y, y_probability)\n",
        "      fpr, tpr = fpr.tolist(), tpr.tolist()\n",
        "      # print(fpr,type(fpr))\n",
        "      with open(save_path, 'w') as fp:\n",
        "          for num in range(len(fpr)):\n",
        "              fp.write(str(fpr[num]) + ',' + str(tpr[num]) + '\\n')\n",
        "\n",
        "  def get_IOA(y_real, y_probability):\n",
        "      '''\n",
        "      calculate the Index of Agreement\n",
        "      :param y_pred:\n",
        "      :param y_real:\n",
        "      :return:\n",
        "      '''\n",
        "      y_pred = pre_class(y_probability)\n",
        "      y_real_average = np.average(y_real)\n",
        "      y_pred_average = np.average(y_pred)\n",
        "      top = 0.0\n",
        "      down = 0.0\n",
        "      for i in range(len(y_real)):\n",
        "          top += (y_pred[i] - y_real[i]) ** 2\n",
        "          down += (np.fabs(y_real[i] - y_real_average) + np.fabs(y_pred[i] - y_pred_average)) ** 2\n",
        "\n",
        "      d = 1 - top / down\n",
        "      return d\n",
        "\n",
        "  def get_IOA1(y_real, y_probability):\n",
        "      '''\n",
        "      calculate the Index of Agreement\n",
        "      :param y_pred:\n",
        "      :param y_real:\n",
        "      :return:\n",
        "      '''\n",
        "\n",
        "      y_real_average = np.average(y_real)\n",
        "      y_pred_average = np.average(y_probability)\n",
        "      top = 0.0\n",
        "      down = 0.0\n",
        "      for i in range(len(y_real)):\n",
        "          top += (y_probability[i] - y_real[i]) ** 2\n",
        "          down += (np.fabs(y_real[i] - y_real_average) + np.fabs(y_probability[i] - y_pred_average)) ** 2\n",
        "\n",
        "      d = 1 - top / down\n",
        "      return d\n",
        "\n",
        "\n",
        "  def get_MAPE(y_real, y_probability):\n",
        "      result = 0.0\n",
        "      number = len(y_real)\n",
        "      for i in range(number):\n",
        "          result += np.abs((y_real[i] - y_probability[i])/1.0)\n",
        "      result = result*100/number\n",
        "      return result"
      ],
      "execution_count": null,
      "outputs": []
    },
    {
      "cell_type": "markdown",
      "metadata": {
        "id": "xduCg59N5zqU"
      },
      "source": [
        "NEW "
      ]
    },
    {
      "cell_type": "code",
      "metadata": {
        "id": "XFxUIJf97Vmo"
      },
      "source": [
        "\n",
        "# get a list of base models\n",
        "def get_models():\n",
        "\tmodels = list()\n",
        "\tmodels.append(('lr', LogisticRegression()))\n",
        "\tmodels.append(('rf', RandomForestClassifier()))\n",
        "\tmodels.append(('cart', tree.DecisionTreeClassifier(splitter='best',max_depth=3,class_weight=None,min_samples_leaf=1000,random_state=0)))\n",
        "\tmodels.append(('cat', CatBoostClassifier(eval_metric='AUC', verbose=100)))\n",
        "\tmodels.append(('lgb', LGBMClassifier(n_jobs=-1,num_threads=16,max_depth=7, random_state=17)))\n",
        "\n",
        "  \n",
        "\treturn models\n",
        "  "
      ],
      "execution_count": 125,
      "outputs": []
    },
    {
      "cell_type": "code",
      "metadata": {
        "id": "7jHQziMa9Zc4"
      },
      "source": [
        "# fit the blending ensemble\n",
        "def fit_ensemble(models, X_train, X_val, y_train, y_val):\n",
        "\t# fit all models on the training set and predict on hold out set\n",
        "\tmeta_X = list()\n",
        "\tfor name, model in models:\n",
        "\t\t# fit in training set\n",
        "\t\tmodel.fit(X_train, y_train)\n",
        "\t\t# predict on hold out set\n",
        "\t\tyhat = model.predict(X_val)\n",
        "\t\t# reshape predictions into a matrix with one column\n",
        "\t\tyhat = yhat.reshape(len(yhat), 1)\n",
        "\t\t# store predictions as input for blending\n",
        "\t\tmeta_X.append(yhat)\n",
        "\t# create 2d array from predictions, each set is an input feature\n",
        "\tmeta_X = hstack(meta_X)\n",
        "\t# define blending model\n",
        "\tblender = LogisticRegression() #meta-model\n",
        "\t# fit on predictions from base models\n",
        "\tblender.fit(meta_X, y_val)\n",
        "\treturn blender"
      ],
      "execution_count": 126,
      "outputs": []
    },
    {
      "cell_type": "code",
      "metadata": {
        "id": "tTCcegal9g47"
      },
      "source": [
        "def predict_ensemble(models, blender, X_test):\n",
        "\t# make predictions with base models\n",
        "\tmeta_X = list()\n",
        "\tfor name, model in models:\n",
        "\t\t# predict with base model\n",
        "\t\tyhat = model.predict(X_test)\n",
        "\t\t# reshape predictions into a matrix with one column\n",
        "\t\tyhat = yhat.reshape(len(yhat), 1)\n",
        "\t\t# store prediction\n",
        "\t\tmeta_X.append(yhat)\n",
        "\t# create 2d array from predictions, each set is an input feature\n",
        "\tmeta_X = hstack(meta_X)\n",
        "\t# predict\n",
        "\treturn blender.predict(meta_X)"
      ],
      "execution_count": 127,
      "outputs": []
    },
    {
      "cell_type": "code",
      "metadata": {
        "id": "_7z154Np9vZt"
      },
      "source": [
        "X_train_bl, X_val, y_train_bl, y_val = train_test_split(X_train_smote, y_train_smote, test_size=0.33, random_state=1)"
      ],
      "execution_count": 128,
      "outputs": []
    },
    {
      "cell_type": "code",
      "metadata": {
        "id": "b4NOueLT9iIt",
        "outputId": "cb259292-d014-4c5e-dae1-2fe4fbea0098",
        "colab": {
          "base_uri": "https://localhost:8080/"
        }
      },
      "source": [
        "models = get_models()\n",
        "# train the blending ensemble\n",
        "blender = fit_ensemble(models, X_train_bl, X_val, y_train_bl, y_val)\n",
        "# make predictions on test set\n",
        "yhat = predict_ensemble(models, blender, X_test)\n",
        "# evaluate predictions"
      ],
      "execution_count": 131,
      "outputs": [
        {
          "output_type": "stream",
          "text": [
            "Learning rate set to 0.115247\n",
            "0:\ttotal: 134ms\tremaining: 2m 13s\n",
            "100:\ttotal: 12.7s\tremaining: 1m 53s\n",
            "200:\ttotal: 24.4s\tremaining: 1m 36s\n",
            "300:\ttotal: 34.1s\tremaining: 1m 19s\n",
            "400:\ttotal: 43.8s\tremaining: 1m 5s\n",
            "500:\ttotal: 53.5s\tremaining: 53.3s\n",
            "600:\ttotal: 1m 3s\tremaining: 42s\n",
            "700:\ttotal: 1m 13s\tremaining: 31.2s\n",
            "800:\ttotal: 1m 23s\tremaining: 20.6s\n",
            "900:\ttotal: 1m 33s\tremaining: 10.2s\n",
            "999:\ttotal: 1m 42s\tremaining: 0us\n"
          ],
          "name": "stdout"
        }
      ]
    }
  ]
}