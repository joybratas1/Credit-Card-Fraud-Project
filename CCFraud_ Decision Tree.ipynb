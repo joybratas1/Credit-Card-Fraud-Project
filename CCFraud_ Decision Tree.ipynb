{
  "nbformat": 4,
  "nbformat_minor": 0,
  "metadata": {
    "colab": {
      "name": "Untitled1.ipynb",
      "provenance": [],
      "authorship_tag": "ABX9TyMj/8exXcPvGc3PdPQLs0cu",
      "include_colab_link": true
    },
    "kernelspec": {
      "name": "python3",
      "display_name": "Python 3"
    },
    "language_info": {
      "name": "python"
    }
  },
  "cells": [
    {
      "cell_type": "markdown",
      "metadata": {
        "id": "view-in-github",
        "colab_type": "text"
      },
      "source": [
        "<a href=\"https://colab.research.google.com/github/joybratas1/Credit-Card-Fraud-Project/blob/main/CCFraud_%20Decision%20Tree.ipynb\" target=\"_parent\"><img src=\"https://colab.research.google.com/assets/colab-badge.svg\" alt=\"Open In Colab\"/></a>"
      ]
    },
    {
      "cell_type": "code",
      "metadata": {
        "id": "PK_X_jd6mAjZ"
      },
      "source": [
        "import pandas as pd\n",
        "import numpy as np\n",
        "import random\n",
        "import matplotlib.pyplot as plt\n",
        "from collections import Counter # counter takes values returns value_counts dictionary\n",
        "import seaborn as sns\n",
        "import plotly.express as px\n",
        "from plotly.offline import init_notebook_mode\n",
        "import os"
      ],
      "execution_count": 42,
      "outputs": []
    },
    {
      "cell_type": "code",
      "metadata": {
        "id": "E8RJyBxmDrKN"
      },
      "source": [
        "pip install opendatasets --upgrade --quiet"
      ],
      "execution_count": 2,
      "outputs": []
    },
    {
      "cell_type": "code",
      "metadata": {
        "colab": {
          "base_uri": "https://localhost:8080/"
        },
        "id": "_YYbFjfXDtX9",
        "outputId": "9ca70be8-83bc-4e0d-e364-da2cc74189ad"
      },
      "source": [
        "import opendatasets as od\n",
        "url_l='https://www.kaggle.com/mlg-ulb/creditcardfraud'\n",
        "od.download(url_l)"
      ],
      "execution_count": 3,
      "outputs": [
        {
          "output_type": "stream",
          "text": [
            "Please provide your Kaggle credentials to download this dataset. Learn more: http://bit.ly/kaggle-creds\n",
            "Your Kaggle username: joybratasarkar\n",
            "Your Kaggle Key: ··········\n"
          ],
          "name": "stdout"
        },
        {
          "output_type": "stream",
          "text": [
            " 14%|█▎        | 9.00M/66.0M [00:00<00:00, 68.3MB/s]"
          ],
          "name": "stderr"
        },
        {
          "output_type": "stream",
          "text": [
            "Downloading creditcardfraud.zip to ./creditcardfraud\n"
          ],
          "name": "stdout"
        },
        {
          "output_type": "stream",
          "text": [
            "100%|██████████| 66.0M/66.0M [00:00<00:00, 107MB/s] \n"
          ],
          "name": "stderr"
        },
        {
          "output_type": "stream",
          "text": [
            "\n"
          ],
          "name": "stdout"
        }
      ]
    },
    {
      "cell_type": "code",
      "metadata": {
        "colab": {
          "base_uri": "https://localhost:8080/"
        },
        "id": "Zyr3WA79DvB8",
        "outputId": "7be7e422-d6d4-4742-d85d-ddeebdb432d9"
      },
      "source": [
        "file_name='/content/creditcardfraud/creditcard.csv'\n",
        "df= pd.read_csv(file_name)\n",
        "df.dataframeName = 'European Credit card Fraud data.csv'\n",
        "nRow, nCol = df.shape\n",
        "print('There are {} rows and {} columns in our Dataset'.format(nRow,nCol))"
      ],
      "execution_count": 4,
      "outputs": [
        {
          "output_type": "stream",
          "text": [
            "There are 284807 rows and 31 columns in our Dataset\n"
          ],
          "name": "stdout"
        }
      ]
    },
    {
      "cell_type": "code",
      "metadata": {
        "colab": {
          "base_uri": "https://localhost:8080/"
        },
        "id": "_aq90NTqDzbJ",
        "outputId": "85bc9d2d-bae1-4dde-f4ba-5839d1f25a1b"
      },
      "source": [
        "def reduce_memory(df):\n",
        "    \"\"\" iterate through all the columns of a dataframe and modify the data type\n",
        "        to reduce memory usage.        \n",
        "    \"\"\"\n",
        "    start_mem = df.memory_usage().sum() / 1024**2\n",
        "    print('Memory usage of dataframe is {:.2f} MB'.format(start_mem))\n",
        "    \n",
        "    for col in df.columns:\n",
        "        col_type = df[col].dtype\n",
        "        \n",
        "        if col_type != object:\n",
        "            c_min = df[col].min()\n",
        "            c_max = df[col].max()\n",
        "            if str(col_type)[:3] == 'int':\n",
        "                if c_min > np.iinfo(np.int8).min and c_max < np.iinfo(np.int8).max:\n",
        "                    df[col] = df[col].astype(np.int8)\n",
        "                elif c_min > np.iinfo(np.int16).min and c_max < np.iinfo(np.int16).max:\n",
        "                    df[col] = df[col].astype(np.int16)\n",
        "                elif c_min > np.iinfo(np.int32).min and c_max < np.iinfo(np.int32).max:\n",
        "                    df[col] = df[col].astype(np.int32)\n",
        "                elif c_min > np.iinfo(np.int64).min and c_max < np.iinfo(np.int64).max:\n",
        "                    df[col] = df[col].astype(np.int64)  \n",
        "            else:\n",
        "                if c_min > np.finfo(np.float16).min and c_max < np.finfo(np.float16).max:\n",
        "                    df[col] = df[col].astype(np.float16)\n",
        "                elif c_min > np.finfo(np.float32).min and c_max < np.finfo(np.float32).max:\n",
        "                    df[col] = df[col].astype(np.float32)\n",
        "                else:\n",
        "                    df[col] = df[col].astype(np.float64)\n",
        "        else:\n",
        "            df[col] = df[col].astype('category')\n",
        "\n",
        "    end_mem = df.memory_usage().sum() / 1024**2\n",
        "    print('Memory usage after optimization is: {:.2f} MB'.format(end_mem))\n",
        "    print('Decreased by {:.1f}%'.format(100 * (start_mem - end_mem) / start_mem))\n",
        "    \n",
        "    return df\n",
        "\n",
        "df = reduce_memory(df)"
      ],
      "execution_count": 5,
      "outputs": [
        {
          "output_type": "stream",
          "text": [
            "Memory usage of dataframe is 67.36 MB\n",
            "Memory usage after optimization is: 17.11 MB\n",
            "Decreased by 74.6%\n"
          ],
          "name": "stdout"
        }
      ]
    },
    {
      "cell_type": "code",
      "metadata": {
        "colab": {
          "base_uri": "https://localhost:8080/"
        },
        "id": "mNJsVG4ID2Vy",
        "outputId": "5869a7ea-34e6-4533-eb1a-a9f31f2c6fe2"
      },
      "source": [
        "vc = df['Class'].value_counts().to_frame().reset_index()\n",
        "vc['percent'] = vc[\"Class\"].apply(lambda x : round(100*float(x) / len(df), 2))\n",
        "#vc = vc.rename(columns = {\"index\" : \"Target\", \"Class\" : \"Count\"})\n",
        "\n",
        "print('No Frauds Cases are ', round(df['Class'].value_counts()[0]/len(df) * 100,2), '% of the dataset i.e.', vc.iloc[0,1])\n",
        "print('Frauds Cases are', round(df['Class'].value_counts()[1]/len(df) * 100,2), '% of the dataset i.e.', vc.iloc[1,1])"
      ],
      "execution_count": 6,
      "outputs": [
        {
          "output_type": "stream",
          "text": [
            "No Frauds Cases are  99.83 % of the dataset i.e. 284315\n",
            "Frauds Cases are 0.17 % of the dataset i.e. 492\n"
          ],
          "name": "stdout"
        }
      ]
    },
    {
      "cell_type": "code",
      "metadata": {
        "id": "trFmDUE2D5u8"
      },
      "source": [
        "# Dropping the Time column\n",
        "df.drop('Time', axis=1, inplace=True)"
      ],
      "execution_count": 7,
      "outputs": []
    },
    {
      "cell_type": "code",
      "metadata": {
        "id": "2NRQNGNjD8eC"
      },
      "source": [
        "from sklearn.model_selection import train_test_split"
      ],
      "execution_count": 8,
      "outputs": []
    },
    {
      "cell_type": "code",
      "metadata": {
        "id": "yMrR6pw0D_Sm"
      },
      "source": [
        "y = df.Class\n",
        "X = df.drop('Class', axis=1)\n",
        "\n",
        "# setting up testing and training sets\n",
        "X_train, X_test, y_train, y_test = train_test_split(X, y, test_size=0.25, random_state=100,stratify=y)"
      ],
      "execution_count": 9,
      "outputs": []
    },
    {
      "cell_type": "code",
      "metadata": {
        "id": "RkvbX6wvEBQG"
      },
      "source": [
        "from sklearn.preprocessing import RobustScaler\n",
        "rob_scaler = RobustScaler()\n"
      ],
      "execution_count": 10,
      "outputs": []
    },
    {
      "cell_type": "code",
      "metadata": {
        "colab": {
          "base_uri": "https://localhost:8080/",
          "height": 572
        },
        "id": "ZFIGTibQEC8v",
        "outputId": "2ba86021-4152-419a-af56-655c4fe4e47e"
      },
      "source": [
        "X_train['Amount'] = rob_scaler.fit_transform(X_train['Amount'].values.reshape(-1,1))\n",
        "\n",
        "X_train"
      ],
      "execution_count": 11,
      "outputs": [
        {
          "output_type": "stream",
          "text": [
            "/usr/local/lib/python3.7/dist-packages/ipykernel_launcher.py:1: SettingWithCopyWarning:\n",
            "\n",
            "\n",
            "A value is trying to be set on a copy of a slice from a DataFrame.\n",
            "Try using .loc[row_indexer,col_indexer] = value instead\n",
            "\n",
            "See the caveats in the documentation: https://pandas.pydata.org/pandas-docs/stable/user_guide/indexing.html#returning-a-view-versus-a-copy\n",
            "\n"
          ],
          "name": "stderr"
        },
        {
          "output_type": "execute_result",
          "data": {
            "text/html": [
              "<div>\n",
              "<style scoped>\n",
              "    .dataframe tbody tr th:only-of-type {\n",
              "        vertical-align: middle;\n",
              "    }\n",
              "\n",
              "    .dataframe tbody tr th {\n",
              "        vertical-align: top;\n",
              "    }\n",
              "\n",
              "    .dataframe thead th {\n",
              "        text-align: right;\n",
              "    }\n",
              "</style>\n",
              "<table border=\"1\" class=\"dataframe\">\n",
              "  <thead>\n",
              "    <tr style=\"text-align: right;\">\n",
              "      <th></th>\n",
              "      <th>V1</th>\n",
              "      <th>V2</th>\n",
              "      <th>V3</th>\n",
              "      <th>V4</th>\n",
              "      <th>V5</th>\n",
              "      <th>V6</th>\n",
              "      <th>V7</th>\n",
              "      <th>V8</th>\n",
              "      <th>V9</th>\n",
              "      <th>V10</th>\n",
              "      <th>V11</th>\n",
              "      <th>V12</th>\n",
              "      <th>V13</th>\n",
              "      <th>V14</th>\n",
              "      <th>V15</th>\n",
              "      <th>V16</th>\n",
              "      <th>V17</th>\n",
              "      <th>V18</th>\n",
              "      <th>V19</th>\n",
              "      <th>V20</th>\n",
              "      <th>V21</th>\n",
              "      <th>V22</th>\n",
              "      <th>V23</th>\n",
              "      <th>V24</th>\n",
              "      <th>V25</th>\n",
              "      <th>V26</th>\n",
              "      <th>V27</th>\n",
              "      <th>V28</th>\n",
              "      <th>Amount</th>\n",
              "    </tr>\n",
              "  </thead>\n",
              "  <tbody>\n",
              "    <tr>\n",
              "      <th>276544</th>\n",
              "      <td>2.019531</td>\n",
              "      <td>-0.099060</td>\n",
              "      <td>-1.123047</td>\n",
              "      <td>0.461670</td>\n",
              "      <td>-0.167358</td>\n",
              "      <td>-1.240234</td>\n",
              "      <td>0.219849</td>\n",
              "      <td>-0.311279</td>\n",
              "      <td>0.829590</td>\n",
              "      <td>-0.090515</td>\n",
              "      <td>-0.836426</td>\n",
              "      <td>0.263184</td>\n",
              "      <td>-0.536133</td>\n",
              "      <td>0.456299</td>\n",
              "      <td>0.231689</td>\n",
              "      <td>-0.322021</td>\n",
              "      <td>-0.268066</td>\n",
              "      <td>-0.595703</td>\n",
              "      <td>0.176147</td>\n",
              "      <td>-0.260010</td>\n",
              "      <td>-0.253662</td>\n",
              "      <td>-0.625488</td>\n",
              "      <td>0.289551</td>\n",
              "      <td>-0.001698</td>\n",
              "      <td>-0.139893</td>\n",
              "      <td>-0.585938</td>\n",
              "      <td>-0.016449</td>\n",
              "      <td>-0.048065</td>\n",
              "      <td>-0.071716</td>\n",
              "    </tr>\n",
              "    <tr>\n",
              "      <th>168089</th>\n",
              "      <td>-0.815918</td>\n",
              "      <td>-0.408203</td>\n",
              "      <td>-1.699219</td>\n",
              "      <td>-0.622070</td>\n",
              "      <td>0.273438</td>\n",
              "      <td>-0.498535</td>\n",
              "      <td>3.472656</td>\n",
              "      <td>-0.622559</td>\n",
              "      <td>-1.340820</td>\n",
              "      <td>-0.738281</td>\n",
              "      <td>0.343750</td>\n",
              "      <td>0.307129</td>\n",
              "      <td>-0.033081</td>\n",
              "      <td>0.944336</td>\n",
              "      <td>-1.416992</td>\n",
              "      <td>-0.429688</td>\n",
              "      <td>-0.626465</td>\n",
              "      <td>0.209351</td>\n",
              "      <td>0.271973</td>\n",
              "      <td>0.940430</td>\n",
              "      <td>0.718750</td>\n",
              "      <td>1.292969</td>\n",
              "      <td>0.696289</td>\n",
              "      <td>-0.340088</td>\n",
              "      <td>0.153442</td>\n",
              "      <td>0.866699</td>\n",
              "      <td>-0.099182</td>\n",
              "      <td>0.199829</td>\n",
              "      <td>6.621094</td>\n",
              "    </tr>\n",
              "    <tr>\n",
              "      <th>91651</th>\n",
              "      <td>-1.185547</td>\n",
              "      <td>1.182617</td>\n",
              "      <td>1.567383</td>\n",
              "      <td>-0.001388</td>\n",
              "      <td>-0.005512</td>\n",
              "      <td>-0.770508</td>\n",
              "      <td>0.738281</td>\n",
              "      <td>-0.090759</td>\n",
              "      <td>-0.246582</td>\n",
              "      <td>0.231323</td>\n",
              "      <td>0.611328</td>\n",
              "      <td>0.958984</td>\n",
              "      <td>1.365234</td>\n",
              "      <td>-0.294678</td>\n",
              "      <td>0.969238</td>\n",
              "      <td>-0.375000</td>\n",
              "      <td>-0.064758</td>\n",
              "      <td>-1.189453</td>\n",
              "      <td>-0.559082</td>\n",
              "      <td>0.210815</td>\n",
              "      <td>-0.252686</td>\n",
              "      <td>-0.234619</td>\n",
              "      <td>0.166748</td>\n",
              "      <td>0.623535</td>\n",
              "      <td>-0.245361</td>\n",
              "      <td>0.008331</td>\n",
              "      <td>-0.141479</td>\n",
              "      <td>-0.355225</td>\n",
              "      <td>-0.141235</td>\n",
              "    </tr>\n",
              "    <tr>\n",
              "      <th>258071</th>\n",
              "      <td>1.817383</td>\n",
              "      <td>-0.727539</td>\n",
              "      <td>-0.291504</td>\n",
              "      <td>0.459473</td>\n",
              "      <td>-0.895996</td>\n",
              "      <td>-0.273438</td>\n",
              "      <td>-0.683594</td>\n",
              "      <td>0.106567</td>\n",
              "      <td>1.052734</td>\n",
              "      <td>0.166870</td>\n",
              "      <td>0.730469</td>\n",
              "      <td>0.756348</td>\n",
              "      <td>-0.583008</td>\n",
              "      <td>0.108887</td>\n",
              "      <td>-0.273193</td>\n",
              "      <td>0.417236</td>\n",
              "      <td>-0.588867</td>\n",
              "      <td>0.466064</td>\n",
              "      <td>-0.098816</td>\n",
              "      <td>-0.109314</td>\n",
              "      <td>0.287598</td>\n",
              "      <td>0.865723</td>\n",
              "      <td>0.091492</td>\n",
              "      <td>0.070007</td>\n",
              "      <td>-0.322266</td>\n",
              "      <td>0.589355</td>\n",
              "      <td>-0.038666</td>\n",
              "      <td>-0.049530</td>\n",
              "      <td>0.670898</td>\n",
              "    </tr>\n",
              "    <tr>\n",
              "      <th>167236</th>\n",
              "      <td>-1.670898</td>\n",
              "      <td>-7.312500</td>\n",
              "      <td>-2.699219</td>\n",
              "      <td>0.667480</td>\n",
              "      <td>-3.021484</td>\n",
              "      <td>0.248047</td>\n",
              "      <td>1.533203</td>\n",
              "      <td>-0.518555</td>\n",
              "      <td>-0.097412</td>\n",
              "      <td>-0.171631</td>\n",
              "      <td>-0.779297</td>\n",
              "      <td>-0.744141</td>\n",
              "      <td>0.065796</td>\n",
              "      <td>0.137939</td>\n",
              "      <td>0.922852</td>\n",
              "      <td>1.761719</td>\n",
              "      <td>0.045166</td>\n",
              "      <td>-0.804688</td>\n",
              "      <td>-0.130981</td>\n",
              "      <td>4.019531</td>\n",
              "      <td>1.234375</td>\n",
              "      <td>-1.047852</td>\n",
              "      <td>-1.350586</td>\n",
              "      <td>0.794434</td>\n",
              "      <td>-1.232422</td>\n",
              "      <td>-0.680664</td>\n",
              "      <td>-0.369873</td>\n",
              "      <td>0.313232</td>\n",
              "      <td>27.687500</td>\n",
              "    </tr>\n",
              "    <tr>\n",
              "      <th>...</th>\n",
              "      <td>...</td>\n",
              "      <td>...</td>\n",
              "      <td>...</td>\n",
              "      <td>...</td>\n",
              "      <td>...</td>\n",
              "      <td>...</td>\n",
              "      <td>...</td>\n",
              "      <td>...</td>\n",
              "      <td>...</td>\n",
              "      <td>...</td>\n",
              "      <td>...</td>\n",
              "      <td>...</td>\n",
              "      <td>...</td>\n",
              "      <td>...</td>\n",
              "      <td>...</td>\n",
              "      <td>...</td>\n",
              "      <td>...</td>\n",
              "      <td>...</td>\n",
              "      <td>...</td>\n",
              "      <td>...</td>\n",
              "      <td>...</td>\n",
              "      <td>...</td>\n",
              "      <td>...</td>\n",
              "      <td>...</td>\n",
              "      <td>...</td>\n",
              "      <td>...</td>\n",
              "      <td>...</td>\n",
              "      <td>...</td>\n",
              "      <td>...</td>\n",
              "    </tr>\n",
              "    <tr>\n",
              "      <th>194533</th>\n",
              "      <td>-0.917480</td>\n",
              "      <td>0.855469</td>\n",
              "      <td>1.515625</td>\n",
              "      <td>-0.220703</td>\n",
              "      <td>0.747559</td>\n",
              "      <td>0.859375</td>\n",
              "      <td>0.827637</td>\n",
              "      <td>0.281494</td>\n",
              "      <td>0.400879</td>\n",
              "      <td>-1.066406</td>\n",
              "      <td>-2.439453</td>\n",
              "      <td>-0.765137</td>\n",
              "      <td>-1.608398</td>\n",
              "      <td>-0.233643</td>\n",
              "      <td>-1.497070</td>\n",
              "      <td>0.011734</td>\n",
              "      <td>-0.457764</td>\n",
              "      <td>-0.414795</td>\n",
              "      <td>-0.072083</td>\n",
              "      <td>-0.274170</td>\n",
              "      <td>-0.583984</td>\n",
              "      <td>-1.673828</td>\n",
              "      <td>-0.248779</td>\n",
              "      <td>-0.213989</td>\n",
              "      <td>0.609375</td>\n",
              "      <td>-1.054688</td>\n",
              "      <td>-0.068481</td>\n",
              "      <td>0.048981</td>\n",
              "      <td>0.173462</td>\n",
              "    </tr>\n",
              "    <tr>\n",
              "      <th>163532</th>\n",
              "      <td>-0.818848</td>\n",
              "      <td>-0.653809</td>\n",
              "      <td>1.685547</td>\n",
              "      <td>-1.561523</td>\n",
              "      <td>0.357422</td>\n",
              "      <td>1.305664</td>\n",
              "      <td>0.371826</td>\n",
              "      <td>-0.086060</td>\n",
              "      <td>-0.349609</td>\n",
              "      <td>0.156616</td>\n",
              "      <td>-0.675293</td>\n",
              "      <td>-1.141602</td>\n",
              "      <td>-0.944336</td>\n",
              "      <td>-0.998047</td>\n",
              "      <td>-0.265625</td>\n",
              "      <td>-0.894043</td>\n",
              "      <td>1.537109</td>\n",
              "      <td>-2.703125</td>\n",
              "      <td>0.337891</td>\n",
              "      <td>0.072693</td>\n",
              "      <td>0.248169</td>\n",
              "      <td>1.356445</td>\n",
              "      <td>-0.603516</td>\n",
              "      <td>-1.038086</td>\n",
              "      <td>0.609863</td>\n",
              "      <td>0.318604</td>\n",
              "      <td>-0.277344</td>\n",
              "      <td>-0.461914</td>\n",
              "      <td>1.102539</td>\n",
              "    </tr>\n",
              "    <tr>\n",
              "      <th>47169</th>\n",
              "      <td>0.984375</td>\n",
              "      <td>-0.951660</td>\n",
              "      <td>0.760742</td>\n",
              "      <td>0.729492</td>\n",
              "      <td>-1.429688</td>\n",
              "      <td>-0.353271</td>\n",
              "      <td>-0.542480</td>\n",
              "      <td>-0.063049</td>\n",
              "      <td>-0.419434</td>\n",
              "      <td>0.629883</td>\n",
              "      <td>-0.971191</td>\n",
              "      <td>-0.123718</td>\n",
              "      <td>0.026550</td>\n",
              "      <td>-0.172363</td>\n",
              "      <td>0.361328</td>\n",
              "      <td>-1.416016</td>\n",
              "      <td>-0.041656</td>\n",
              "      <td>1.488281</td>\n",
              "      <td>-1.164062</td>\n",
              "      <td>-0.233032</td>\n",
              "      <td>-0.148315</td>\n",
              "      <td>-0.163452</td>\n",
              "      <td>-0.190674</td>\n",
              "      <td>0.378174</td>\n",
              "      <td>0.456543</td>\n",
              "      <td>-0.239014</td>\n",
              "      <td>0.045746</td>\n",
              "      <td>0.061768</td>\n",
              "      <td>2.070312</td>\n",
              "    </tr>\n",
              "    <tr>\n",
              "      <th>138367</th>\n",
              "      <td>0.699707</td>\n",
              "      <td>-1.557617</td>\n",
              "      <td>0.286865</td>\n",
              "      <td>0.349609</td>\n",
              "      <td>-1.519531</td>\n",
              "      <td>-0.535645</td>\n",
              "      <td>-0.117676</td>\n",
              "      <td>-0.177246</td>\n",
              "      <td>-0.468506</td>\n",
              "      <td>0.452393</td>\n",
              "      <td>-0.967285</td>\n",
              "      <td>-0.115479</td>\n",
              "      <td>-0.277588</td>\n",
              "      <td>-0.071106</td>\n",
              "      <td>-0.190430</td>\n",
              "      <td>-1.633789</td>\n",
              "      <td>0.319336</td>\n",
              "      <td>0.736816</td>\n",
              "      <td>-0.609863</td>\n",
              "      <td>0.116943</td>\n",
              "      <td>-0.456787</td>\n",
              "      <td>-1.458984</td>\n",
              "      <td>-0.134644</td>\n",
              "      <td>0.368408</td>\n",
              "      <td>0.086121</td>\n",
              "      <td>0.273682</td>\n",
              "      <td>-0.065369</td>\n",
              "      <td>0.075745</td>\n",
              "      <td>4.429688</td>\n",
              "    </tr>\n",
              "    <tr>\n",
              "      <th>271</th>\n",
              "      <td>-0.351318</td>\n",
              "      <td>1.183594</td>\n",
              "      <td>0.530762</td>\n",
              "      <td>0.543945</td>\n",
              "      <td>0.798340</td>\n",
              "      <td>-0.804688</td>\n",
              "      <td>1.563477</td>\n",
              "      <td>-0.936035</td>\n",
              "      <td>0.633789</td>\n",
              "      <td>2.302734</td>\n",
              "      <td>1.398438</td>\n",
              "      <td>-0.318604</td>\n",
              "      <td>-1.411133</td>\n",
              "      <td>-0.155273</td>\n",
              "      <td>0.277832</td>\n",
              "      <td>-0.706055</td>\n",
              "      <td>-0.780273</td>\n",
              "      <td>0.354004</td>\n",
              "      <td>0.618652</td>\n",
              "      <td>0.596191</td>\n",
              "      <td>-0.121765</td>\n",
              "      <td>0.667969</td>\n",
              "      <td>-0.057373</td>\n",
              "      <td>0.301514</td>\n",
              "      <td>-0.730957</td>\n",
              "      <td>-0.538574</td>\n",
              "      <td>-0.037201</td>\n",
              "      <td>-0.479980</td>\n",
              "      <td>-0.283936</td>\n",
              "    </tr>\n",
              "  </tbody>\n",
              "</table>\n",
              "<p>213605 rows × 29 columns</p>\n",
              "</div>"
            ],
            "text/plain": [
              "              V1        V2        V3  ...       V27       V28     Amount\n",
              "276544  2.019531 -0.099060 -1.123047  ... -0.016449 -0.048065  -0.071716\n",
              "168089 -0.815918 -0.408203 -1.699219  ... -0.099182  0.199829   6.621094\n",
              "91651  -1.185547  1.182617  1.567383  ... -0.141479 -0.355225  -0.141235\n",
              "258071  1.817383 -0.727539 -0.291504  ... -0.038666 -0.049530   0.670898\n",
              "167236 -1.670898 -7.312500 -2.699219  ... -0.369873  0.313232  27.687500\n",
              "...          ...       ...       ...  ...       ...       ...        ...\n",
              "194533 -0.917480  0.855469  1.515625  ... -0.068481  0.048981   0.173462\n",
              "163532 -0.818848 -0.653809  1.685547  ... -0.277344 -0.461914   1.102539\n",
              "47169   0.984375 -0.951660  0.760742  ...  0.045746  0.061768   2.070312\n",
              "138367  0.699707 -1.557617  0.286865  ... -0.065369  0.075745   4.429688\n",
              "271    -0.351318  1.183594  0.530762  ... -0.037201 -0.479980  -0.283936\n",
              "\n",
              "[213605 rows x 29 columns]"
            ]
          },
          "metadata": {
            "tags": []
          },
          "execution_count": 11
        }
      ]
    },
    {
      "cell_type": "code",
      "metadata": {
        "colab": {
          "base_uri": "https://localhost:8080/"
        },
        "id": "kxmGQtTpEE1n",
        "outputId": "541c578e-c81a-4b4d-b6af-23530d455d5f"
      },
      "source": [
        "X_test['Amount'] = rob_scaler.transform(X_test['Amount'].values.reshape(-1,1))"
      ],
      "execution_count": 12,
      "outputs": [
        {
          "output_type": "stream",
          "text": [
            "/usr/local/lib/python3.7/dist-packages/ipykernel_launcher.py:1: SettingWithCopyWarning:\n",
            "\n",
            "\n",
            "A value is trying to be set on a copy of a slice from a DataFrame.\n",
            "Try using .loc[row_indexer,col_indexer] = value instead\n",
            "\n",
            "See the caveats in the documentation: https://pandas.pydata.org/pandas-docs/stable/user_guide/indexing.html#returning-a-view-versus-a-copy\n",
            "\n"
          ],
          "name": "stderr"
        }
      ]
    },
    {
      "cell_type": "code",
      "metadata": {
        "colab": {
          "base_uri": "https://localhost:8080/"
        },
        "id": "cRMYB48hFVQl",
        "outputId": "2c3ab025-13bf-419c-eba1-0ae2f1509327"
      },
      "source": [
        "from imblearn.over_sampling import SMOTE\n",
        "\n",
        "sm = SMOTE(random_state = 33)"
      ],
      "execution_count": 13,
      "outputs": [
        {
          "output_type": "stream",
          "text": [
            "/usr/local/lib/python3.7/dist-packages/sklearn/externals/six.py:31: FutureWarning:\n",
            "\n",
            "The module is deprecated in version 0.21 and will be removed in version 0.23 since we've dropped support for Python 2.7. Please rely on the official version of six (https://pypi.org/project/six/).\n",
            "\n",
            "/usr/local/lib/python3.7/dist-packages/sklearn/utils/deprecation.py:144: FutureWarning:\n",
            "\n",
            "The sklearn.neighbors.base module is  deprecated in version 0.22 and will be removed in version 0.24. The corresponding classes / functions should instead be imported from sklearn.neighbors. Anything that cannot be imported from sklearn.neighbors is now part of the private API.\n",
            "\n"
          ],
          "name": "stderr"
        }
      ]
    },
    {
      "cell_type": "code",
      "metadata": {
        "colab": {
          "base_uri": "https://localhost:8080/"
        },
        "id": "YsNPMuR3FY_5",
        "outputId": "9f58912a-494d-43d6-8383-f4c5844eb6f5"
      },
      "source": [
        "X_train_smote, y_train_smote = sm.fit_sample(X_train, y_train)\n",
        "\n",
        "print('Before SMOTE oversampling X_train shape=',X_train.shape)\n",
        "print('After SMOTE oversampling X_train shape=',X_train_smote.shape)"
      ],
      "execution_count": 14,
      "outputs": [
        {
          "output_type": "stream",
          "text": [
            "/usr/local/lib/python3.7/dist-packages/sklearn/utils/deprecation.py:87: FutureWarning:\n",
            "\n",
            "Function safe_indexing is deprecated; safe_indexing is deprecated in version 0.22 and will be removed in version 0.24.\n",
            "\n"
          ],
          "name": "stderr"
        },
        {
          "output_type": "stream",
          "text": [
            "Before SMOTE oversampling X_train shape= (213605, 29)\n",
            "After SMOTE oversampling X_train shape= (426472, 29)\n"
          ],
          "name": "stdout"
        }
      ]
    },
    {
      "cell_type": "code",
      "metadata": {
        "id": "Q-Macwg1EHWy"
      },
      "source": [
        "from sklearn import metrics\n",
        "from sklearn.metrics import confusion_matrix\n",
        "from sklearn.metrics import f1_score\n",
        "from sklearn.metrics import classification_report\n",
        "from sklearn.metrics import roc_curve, auc, roc_auc_score"
      ],
      "execution_count": 15,
      "outputs": []
    },
    {
      "cell_type": "code",
      "metadata": {
        "id": "_SPZz54ZEO6A"
      },
      "source": [
        "from sklearn.tree import DecisionTreeClassifier\n",
        "from sklearn.model_selection import KFold, GridSearchCV"
      ],
      "execution_count": 16,
      "outputs": []
    },
    {
      "cell_type": "code",
      "metadata": {
        "colab": {
          "base_uri": "https://localhost:8080/"
        },
        "id": "xoM5q2-YEtrG",
        "outputId": "9bf6bbb8-188b-4009-c72a-92faa75fbd0b"
      },
      "source": [
        "dt = DecisionTreeClassifier(max_depth=3, class_weight='balanced')\n",
        "dt.fit(X_train_smote, y_train_smote)"
      ],
      "execution_count": 17,
      "outputs": [
        {
          "output_type": "execute_result",
          "data": {
            "text/plain": [
              "DecisionTreeClassifier(ccp_alpha=0.0, class_weight='balanced', criterion='gini',\n",
              "                       max_depth=3, max_features=None, max_leaf_nodes=None,\n",
              "                       min_impurity_decrease=0.0, min_impurity_split=None,\n",
              "                       min_samples_leaf=1, min_samples_split=2,\n",
              "                       min_weight_fraction_leaf=0.0, presort='deprecated',\n",
              "                       random_state=None, splitter='best')"
            ]
          },
          "metadata": {
            "tags": []
          },
          "execution_count": 17
        }
      ]
    },
    {
      "cell_type": "code",
      "metadata": {
        "id": "HJOp7aljFoLz"
      },
      "source": [
        "y_train_pred_DT = dt.predict(X_train_smote)"
      ],
      "execution_count": 18,
      "outputs": []
    },
    {
      "cell_type": "code",
      "metadata": {
        "colab": {
          "base_uri": "https://localhost:8080/"
        },
        "id": "N8vxYV0eFrgj",
        "outputId": "2f50c541-eb5e-4c6b-e93c-cfa182cac9bd"
      },
      "source": [
        "print(classification_report(y_train_smote, y_train_pred_DT))\n",
        "print('Confusion Matrix - Training Dataset')\n",
        "print(pd.crosstab(y_train_smote, y_train_pred_DT, rownames = ['True'], colnames = ['Predicted'], margins = True))"
      ],
      "execution_count": 19,
      "outputs": [
        {
          "output_type": "stream",
          "text": [
            "              precision    recall  f1-score   support\n",
            "\n",
            "           0       0.95      0.95      0.95    213236\n",
            "           1       0.95      0.95      0.95    213236\n",
            "\n",
            "    accuracy                           0.95    426472\n",
            "   macro avg       0.95      0.95      0.95    426472\n",
            "weighted avg       0.95      0.95      0.95    426472\n",
            "\n",
            "Confusion Matrix - Training Dataset\n",
            "Predicted       0       1     All\n",
            "True                             \n",
            "0          203126   10110  213236\n",
            "1           11116  202120  213236\n",
            "All        214242  212230  426472\n"
          ],
          "name": "stdout"
        }
      ]
    },
    {
      "cell_type": "code",
      "metadata": {
        "id": "-7xqx_s8GZ5i"
      },
      "source": [
        "y_test_DT_smote = dt.predict(X_test)"
      ],
      "execution_count": 20,
      "outputs": []
    },
    {
      "cell_type": "code",
      "metadata": {
        "colab": {
          "base_uri": "https://localhost:8080/"
        },
        "id": "WBne7a2sGnrC",
        "outputId": "646f8057-32a7-4f93-fc80-613adddc1f6d"
      },
      "source": [
        "print(classification_report(y_test, y_test_DT_smote))\n",
        "print('Confusion Matrix - Training Dataset')\n",
        "print(pd.crosstab(y_test, y_test_DT_smote, rownames = ['True'], colnames = ['Predicted'], margins = True))"
      ],
      "execution_count": 21,
      "outputs": [
        {
          "output_type": "stream",
          "text": [
            "              precision    recall  f1-score   support\n",
            "\n",
            "           0       1.00      0.95      0.98     71079\n",
            "           1       0.03      0.85      0.06       123\n",
            "\n",
            "    accuracy                           0.95     71202\n",
            "   macro avg       0.52      0.90      0.52     71202\n",
            "weighted avg       1.00      0.95      0.97     71202\n",
            "\n",
            "Confusion Matrix - Training Dataset\n",
            "Predicted      0     1    All\n",
            "True                         \n",
            "0          67759  3320  71079\n",
            "1             19   104    123\n",
            "All        67778  3424  71202\n"
          ],
          "name": "stdout"
        }
      ]
    },
    {
      "cell_type": "code",
      "metadata": {
        "colab": {
          "base_uri": "https://localhost:8080/"
        },
        "id": "xPUHKqSkHcPo",
        "outputId": "ae689b72-c16d-428e-bc9d-4a2e8f7557a7"
      },
      "source": [
        "roc_auc_score(y_train_smote.ravel(), y_train_pred_DT)"
      ],
      "execution_count": null,
      "outputs": [
        {
          "output_type": "execute_result",
          "data": {
            "text/plain": [
              "0.9502288544148269"
            ]
          },
          "metadata": {
            "tags": []
          },
          "execution_count": 25
        }
      ]
    },
    {
      "cell_type": "code",
      "metadata": {
        "id": "Ydm4nK52HuCC"
      },
      "source": [
        "y_train_pred_proba_DT_smote = dt.predict_proba(X_train_smote)[:,1]"
      ],
      "execution_count": null,
      "outputs": []
    },
    {
      "cell_type": "code",
      "metadata": {
        "colab": {
          "base_uri": "https://localhost:8080/",
          "height": 295
        },
        "id": "eJ6oYWL-HnGB",
        "outputId": "aff98959-23cb-4448-f4e7-01db818e08c9"
      },
      "source": [
        "fpr, tpr, thresholds = roc_curve(y_train_smote.ravel(),y_train_pred_proba_DT_smote)\n",
        "roc_auc = auc(fpr,tpr)\n",
        "\n",
        "# Plot ROC\n",
        "plt.title('Receiver Operating Characteristic')\n",
        "plt.plot(fpr, tpr, 'b',label='AUC = %0.2f'% roc_auc)\n",
        "plt.legend(loc='lower right')\n",
        "plt.plot([0,1],[0,1],'r--')\n",
        "plt.xlim([-0.1,1.0])\n",
        "plt.ylim([-0.1,1.01])\n",
        "plt.ylabel('True Positive Rate')\n",
        "plt.xlabel('False Positive Rate')\n",
        "plt.show()\n"
      ],
      "execution_count": null,
      "outputs": [
        {
          "output_type": "display_data",
          "data": {
            "image/png": "[encoded data removed]",
            "text/plain": [
              "<Figure size 432x288 with 1 Axes>"
            ]
          },
          "metadata": {
            "tags": [],
            "needs_background": "light"
          }
        }
      ]
    },
    {
      "cell_type": "markdown",
      "metadata": {
        "id": "Ngn9mbgcqMC_"
      },
      "source": [
        "### CATBOOST"
      ]
    },
    {
      "cell_type": "code",
      "metadata": {
        "id": "UTzzjb6DqLhO",
        "outputId": "0996288c-7e09-4d59-84d1-a069b99916cb",
        "colab": {
          "base_uri": "https://localhost:8080/"
        }
      },
      "source": [
        "!pip install catboost\n",
        "from catboost import CatBoostClassifier"
      ],
      "execution_count": 24,
      "outputs": [
        {
          "output_type": "stream",
          "text": [
            "Collecting catboost\n",
            "  Downloading catboost-0.26-cp37-none-manylinux1_x86_64.whl (69.2 MB)\n",
            "\u001b[K     |████████████████████████████████| 69.2 MB 5.1 kB/s \n",
            "\u001b[?25hRequirement already satisfied: numpy>=1.16.0 in /usr/local/lib/python3.7/dist-packages (from catboost) (1.19.5)\n",
            "Requirement already satisfied: matplotlib in /usr/local/lib/python3.7/dist-packages (from catboost) (3.2.2)\n",
            "Requirement already satisfied: graphviz in /usr/local/lib/python3.7/dist-packages (from catboost) (0.10.1)\n",
            "Requirement already satisfied: six in /usr/local/lib/python3.7/dist-packages (from catboost) (1.15.0)\n",
            "Requirement already satisfied: plotly in /usr/local/lib/python3.7/dist-packages (from catboost) (4.4.1)\n",
            "Requirement already satisfied: pandas>=0.24.0 in /usr/local/lib/python3.7/dist-packages (from catboost) (1.1.5)\n",
            "Requirement already satisfied: scipy in /usr/local/lib/python3.7/dist-packages (from catboost) (1.4.1)\n",
            "Requirement already satisfied: python-dateutil>=2.7.3 in /usr/local/lib/python3.7/dist-packages (from pandas>=0.24.0->catboost) (2.8.1)\n",
            "Requirement already satisfied: pytz>=2017.2 in /usr/local/lib/python3.7/dist-packages (from pandas>=0.24.0->catboost) (2018.9)\n",
            "Requirement already satisfied: cycler>=0.10 in /usr/local/lib/python3.7/dist-packages (from matplotlib->catboost) (0.10.0)\n",
            "Requirement already satisfied: kiwisolver>=1.0.1 in /usr/local/lib/python3.7/dist-packages (from matplotlib->catboost) (1.3.1)\n",
            "Requirement already satisfied: pyparsing!=2.0.4,!=2.1.2,!=2.1.6,>=2.0.1 in /usr/local/lib/python3.7/dist-packages (from matplotlib->catboost) (2.4.7)\n",
            "Requirement already satisfied: retrying>=1.3.3 in /usr/local/lib/python3.7/dist-packages (from plotly->catboost) (1.3.3)\n",
            "Installing collected packages: catboost\n",
            "Successfully installed catboost-0.26\n"
          ],
          "name": "stdout"
        }
      ]
    },
    {
      "cell_type": "code",
      "metadata": {
        "id": "EqU_ulYftsfs"
      },
      "source": [
        "cat_model = CatBoostClassifier(eval_metric='AUC', verbose=100)"
      ],
      "execution_count": 25,
      "outputs": []
    },
    {
      "cell_type": "code",
      "metadata": {
        "id": "ANsrlB_nuBtg",
        "outputId": "7d9c5695-2d8c-4f7e-aa4e-15f37e6e4f59",
        "colab": {
          "base_uri": "https://localhost:8080/"
        }
      },
      "source": [
        "cat_model.fit(X_train_smote, y_train_smote,eval_set=(X_test, y_test), use_best_model=True)"
      ],
      "execution_count": 26,
      "outputs": [
        {
          "output_type": "stream",
          "text": [
            "Learning rate set to 0.141414\n",
            "0:\ttest: 0.9438783\tbest: 0.9438783 (0)\ttotal: 275ms\tremaining: 4m 34s\n",
            "100:\ttest: 0.9635022\tbest: 0.9716973 (5)\ttotal: 19.1s\tremaining: 2m 49s\n",
            "200:\ttest: 0.9661375\tbest: 0.9716973 (5)\ttotal: 36.7s\tremaining: 2m 26s\n",
            "300:\ttest: 0.9661930\tbest: 0.9716973 (5)\ttotal: 51.2s\tremaining: 1m 58s\n",
            "400:\ttest: 0.9661923\tbest: 0.9716973 (5)\ttotal: 1m 5s\tremaining: 1m 38s\n",
            "500:\ttest: 0.9661923\tbest: 0.9716973 (5)\ttotal: 1m 20s\tremaining: 1m 20s\n",
            "600:\ttest: 0.9663300\tbest: 0.9716973 (5)\ttotal: 1m 34s\tremaining: 1m 3s\n",
            "700:\ttest: 0.9663300\tbest: 0.9716973 (5)\ttotal: 1m 49s\tremaining: 46.7s\n",
            "800:\ttest: 0.9663298\tbest: 0.9716973 (5)\ttotal: 2m 3s\tremaining: 30.8s\n",
            "900:\ttest: 0.9663271\tbest: 0.9716973 (5)\ttotal: 2m 18s\tremaining: 15.2s\n",
            "999:\ttest: 0.9663259\tbest: 0.9716973 (5)\ttotal: 2m 32s\tremaining: 0us\n",
            "\n",
            "bestTest = 0.9716972996\n",
            "bestIteration = 5\n",
            "\n",
            "Shrink model to first 6 iterations.\n"
          ],
          "name": "stdout"
        },
        {
          "output_type": "execute_result",
          "data": {
            "text/plain": [
              "<catboost.core.CatBoostClassifier at 0x7f7b90c25b50>"
            ]
          },
          "metadata": {
            "tags": []
          },
          "execution_count": 26
        }
      ]
    },
    {
      "cell_type": "code",
      "metadata": {
        "id": "VIKdR8SfuUrJ"
      },
      "source": [
        "y_train_pred_smote_cat = cat_model.predict(X_train_smote)\n",
        "y_test_CAT_smote =cat_model.predict(X_test)\n",
        "pred_prob =cat_model.predict_proba(X_test)[:,1]\n",
        "pred_prob_train= cat_model.predict_proba(X_train_smote)[:,1]"
      ],
      "execution_count": 36,
      "outputs": []
    },
    {
      "cell_type": "code",
      "metadata": {
        "id": "DEWKLOTKvN5v",
        "outputId": "1a1e2de6-2bd5-4911-bb8e-7326c0d51d17",
        "colab": {
          "base_uri": "https://localhost:8080/"
        }
      },
      "source": [
        "print(classification_report(y_train_smote, y_train_pred_smote_cat))\n",
        "print('Confusion Matrix - Training Dataset')\n",
        "print(pd.crosstab(y_train_smote, y_train_pred_smote_cat, rownames = ['True'], colnames = ['Predicted'], margins = True))"
      ],
      "execution_count": 29,
      "outputs": [
        {
          "output_type": "stream",
          "text": [
            "              precision    recall  f1-score   support\n",
            "\n",
            "           0       0.96      0.98      0.97    213236\n",
            "           1       0.98      0.95      0.97    213236\n",
            "\n",
            "    accuracy                           0.97    426472\n",
            "   macro avg       0.97      0.97      0.97    426472\n",
            "weighted avg       0.97      0.97      0.97    426472\n",
            "\n",
            "Confusion Matrix - Training Dataset\n",
            "Predicted       0       1     All\n",
            "True                             \n",
            "0          209889    3347  213236\n",
            "1            9775  203461  213236\n",
            "All        219664  206808  426472\n"
          ],
          "name": "stdout"
        }
      ]
    },
    {
      "cell_type": "code",
      "metadata": {
        "id": "IbNFlf56u97B",
        "outputId": "18cb0003-f8d2-4da6-fd5d-e643287ba90b",
        "colab": {
          "base_uri": "https://localhost:8080/"
        }
      },
      "source": [
        "print(classification_report(y_test, y_test_CAT_smote))\n",
        "print('Confusion Matrix - Training Dataset')\n",
        "print(pd.crosstab(y_test, y_test_CAT_smote, rownames = ['True'], colnames = ['Predicted'], margins = True))"
      ],
      "execution_count": 30,
      "outputs": [
        {
          "output_type": "stream",
          "text": [
            "              precision    recall  f1-score   support\n",
            "\n",
            "           0       1.00      0.98      0.99     71079\n",
            "           1       0.09      0.85      0.16       123\n",
            "\n",
            "    accuracy                           0.98     71202\n",
            "   macro avg       0.54      0.92      0.58     71202\n",
            "weighted avg       1.00      0.98      0.99     71202\n",
            "\n",
            "Confusion Matrix - Training Dataset\n",
            "Predicted      0     1    All\n",
            "True                         \n",
            "0          70010  1069  71079\n",
            "1             19   104    123\n",
            "All        70029  1173  71202\n"
          ],
          "name": "stdout"
        }
      ]
    },
    {
      "cell_type": "code",
      "metadata": {
        "id": "DIffo66i17oU",
        "outputId": "b98ee379-edf4-4f6c-e874-3e5c8112f065",
        "colab": {
          "base_uri": "https://localhost:8080/"
        }
      },
      "source": [
        "roc_auc_score(y_test, pred_prob)"
      ],
      "execution_count": 33,
      "outputs": [
        {
          "output_type": "execute_result",
          "data": {
            "text/plain": [
              "0.9152444257317263"
            ]
          },
          "metadata": {
            "tags": []
          },
          "execution_count": 33
        }
      ]
    },
    {
      "cell_type": "code",
      "metadata": {
        "id": "JU2tH77O2tJG",
        "outputId": "3fd50ba9-dead-4532-9d1b-bcb0206633a0",
        "colab": {
          "base_uri": "https://localhost:8080/"
        }
      },
      "source": [
        "roc_auc_score(y_test,  y_test_CAT_smote)"
      ],
      "execution_count": 34,
      "outputs": [
        {
          "output_type": "execute_result",
          "data": {
            "text/plain": [
              "0.9152444257317263"
            ]
          },
          "metadata": {
            "tags": []
          },
          "execution_count": 34
        }
      ]
    },
    {
      "cell_type": "code",
      "metadata": {
        "id": "WqyC-G6d2xk-",
        "outputId": "4aefdb65-8072-4f70-b858-504f1ebce337",
        "colab": {
          "base_uri": "https://localhost:8080/",
          "height": 295
        }
      },
      "source": [
        "fpr, tpr, thresholds = roc_curve(y_test.ravel(),pred_prob)\n",
        "roc_auc = auc(fpr,tpr)\n",
        "\n",
        "# Plot ROC\n",
        "plt.title('Receiver Operating Characteristic')\n",
        "plt.plot(fpr, tpr, 'b',label='AUC = %0.2f'% roc_auc)\n",
        "plt.legend(loc='lower right')\n",
        "plt.plot([0,1],[0,1],'r--')\n",
        "plt.xlim([-0.1,1.0])\n",
        "plt.ylim([-0.1,1.01])\n",
        "plt.ylabel('True Positive Rate')\n",
        "plt.xlabel('False Positive Rate')\n",
        "plt.show()"
      ],
      "execution_count": 38,
      "outputs": [
        {
          "output_type": "display_data",
          "data": {
            "image/png": "[encoded data removed]",
            "text/plain": [
              "<Figure size 432x288 with 1 Axes>"
            ]
          },
          "metadata": {
            "tags": [],
            "needs_background": "light"
          }
        }
      ]
    },
    {
      "cell_type": "code",
      "metadata": {
        "id": "KfpnmkGw_ZPN"
      },
      "source": [
        ""
      ],
      "execution_count": null,
      "outputs": []
    },
    {
      "cell_type": "markdown",
      "metadata": {
        "id": "8YsOPidQ_Ysm"
      },
      "source": [
        "### LIGHT GBM"
      ]
    },
    {
      "cell_type": "code",
      "metadata": {
        "id": "1BRj5rMH3UdP"
      },
      "source": [
        "from lightgbm import LGBMClassifier"
      ],
      "execution_count": 39,
      "outputs": []
    },
    {
      "cell_type": "code",
      "metadata": {
        "id": "J6iGkDZj_jFw"
      },
      "source": [
        "lgb_model= LGBMClassifier(n_jobs=-1,num_threads=16,max_depth=7, random_state=17)"
      ],
      "execution_count": 79,
      "outputs": []
    },
    {
      "cell_type": "code",
      "metadata": {
        "id": "cB0WiwtJAySk",
        "outputId": "4e697401-ee89-4f16-93f2-d0bd1af9e5dc",
        "colab": {
          "base_uri": "https://localhost:8080/"
        }
      },
      "source": [
        "lgb_model.fit(X_train_smote, y_train_smote)"
      ],
      "execution_count": 80,
      "outputs": [
        {
          "output_type": "execute_result",
          "data": {
            "text/plain": [
              "LGBMClassifier(boosting_type='gbdt', class_weight=None, colsample_bytree=1.0,\n",
              "               importance_type='split', learning_rate=0.1, max_depth=7,\n",
              "               min_child_samples=20, min_child_weight=0.001, min_split_gain=0.0,\n",
              "               n_estimators=100, n_jobs=-1, num_leaves=31, num_threads=16,\n",
              "               objective=None, random_state=17, reg_alpha=0.0, reg_lambda=0.0,\n",
              "               silent=True, subsample=1.0, subsample_for_bin=200000,\n",
              "               subsample_freq=0)"
            ]
          },
          "metadata": {
            "tags": []
          },
          "execution_count": 80
        }
      ]
    },
    {
      "cell_type": "code",
      "metadata": {
        "id": "eLmzgUXGBBKr"
      },
      "source": [
        "y_train_pred_smote_lgb = lgb_model.predict(X_train_smote)\n",
        "y_test_LGB_smote =lgb_model.predict(X_test)\n",
        "pred_prob_lgb =lgb_model.predict_proba(X_test)[:,1]\n",
        "pred_prob_train_lgb= lgb_model.predict_proba(X_train_smote)[:,1]"
      ],
      "execution_count": 81,
      "outputs": []
    },
    {
      "cell_type": "code",
      "metadata": {
        "id": "hDQPg-WABXif",
        "outputId": "38f00481-b7ae-406c-ac34-e047e8795122",
        "colab": {
          "base_uri": "https://localhost:8080/"
        }
      },
      "source": [
        "print(classification_report(y_train_smote, y_train_pred_smote_lgb))\n",
        "print('Confusion Matrix - Training Dataset')\n",
        "print(pd.crosstab(y_train_smote, y_train_pred_smote_lgb, rownames = ['True'], colnames = ['Predicted'], margins = True))"
      ],
      "execution_count": 82,
      "outputs": [
        {
          "output_type": "stream",
          "text": [
            "              precision    recall  f1-score   support\n",
            "\n",
            "           0       1.00      1.00      1.00    213236\n",
            "           1       1.00      1.00      1.00    213236\n",
            "\n",
            "    accuracy                           1.00    426472\n",
            "   macro avg       1.00      1.00      1.00    426472\n",
            "weighted avg       1.00      1.00      1.00    426472\n",
            "\n",
            "Confusion Matrix - Training Dataset\n",
            "Predicted       0       1     All\n",
            "True                             \n",
            "0          212958     278  213236\n",
            "1              42  213194  213236\n",
            "All        213000  213472  426472\n"
          ],
          "name": "stdout"
        }
      ]
    },
    {
      "cell_type": "code",
      "metadata": {
        "id": "uBvO9iv1BfWV",
        "outputId": "8eac8e0e-d419-4a26-9688-bb6d9095f30b",
        "colab": {
          "base_uri": "https://localhost:8080/"
        }
      },
      "source": [
        "print(classification_report(y_test, y_test_LGB_smote))\n",
        "print('Confusion Matrix - Training Dataset')\n",
        "print(pd.crosstab(y_test, y_test_LGB_smote, rownames = ['True'], colnames = ['Predicted'], margins = True))"
      ],
      "execution_count": 83,
      "outputs": [
        {
          "output_type": "stream",
          "text": [
            "              precision    recall  f1-score   support\n",
            "\n",
            "           0       1.00      1.00      1.00     71079\n",
            "           1       0.45      0.82      0.58       123\n",
            "\n",
            "    accuracy                           1.00     71202\n",
            "   macro avg       0.73      0.91      0.79     71202\n",
            "weighted avg       1.00      1.00      1.00     71202\n",
            "\n",
            "Confusion Matrix - Training Dataset\n",
            "Predicted      0    1    All\n",
            "True                        \n",
            "0          70957  122  71079\n",
            "1             22  101    123\n",
            "All        70979  223  71202\n"
          ],
          "name": "stdout"
        }
      ]
    },
    {
      "cell_type": "code",
      "metadata": {
        "id": "HFaB56DWH3VQ",
        "outputId": "bfdaa05c-908c-449c-98c7-dfe7694f46c6",
        "colab": {
          "base_uri": "https://localhost:8080/"
        }
      },
      "source": [
        "roc_auc_score(y_test, pred_prob_lgb)"
      ],
      "execution_count": 84,
      "outputs": [
        {
          "output_type": "execute_result",
          "data": {
            "text/plain": [
              "0.9709622306200693"
            ]
          },
          "metadata": {
            "tags": []
          },
          "execution_count": 84
        }
      ]
    },
    {
      "cell_type": "code",
      "metadata": {
        "id": "7J656seYHvM-",
        "outputId": "ada71f5d-8f4f-4a2b-afe5-c8e05392453d",
        "colab": {
          "base_uri": "https://localhost:8080/",
          "height": 295
        }
      },
      "source": [
        "fpr, tpr, thresholds = roc_curve(y_test.ravel(),pred_prob_lgb)\n",
        "roc_auc = auc(fpr,tpr)\n",
        "\n",
        "# Plot ROC\n",
        "plt.title('Receiver Operating Characteristic')\n",
        "plt.plot(fpr, tpr, 'b',label='AUC = %0.2f'% roc_auc)\n",
        "plt.legend(loc='lower right')\n",
        "plt.plot([0,1],[0,1],'r--')\n",
        "plt.xlim([-0.1,1.0])\n",
        "plt.ylim([-0.1,1.01])\n",
        "plt.ylabel('True Positive Rate')\n",
        "plt.xlabel('False Positive Rate')\n",
        "plt.show()"
      ],
      "execution_count": 85,
      "outputs": [
        {
          "output_type": "display_data",
          "data": {
            "image/png": "[encoded data removed]",
            "text/plain": [
              "<Figure size 432x288 with 1 Axes>"
            ]
          },
          "metadata": {
            "tags": [],
            "needs_background": "light"
          }
        }
      ]
    },
    {
      "cell_type": "code",
      "metadata": {
        "id": "TMYVKZ8uLV8M"
      },
      "source": [
        ""
      ],
      "execution_count": null,
      "outputs": []
    },
    {
      "cell_type": "markdown",
      "metadata": {
        "id": "FEDgIgpgLWJX"
      },
      "source": [
        "### RANDOM FOREST CLASSIFIER"
      ]
    },
    {
      "cell_type": "code",
      "metadata": {
        "id": "kBvXt-7-LYZp"
      },
      "source": [
        "from sklearn.ensemble import RandomForestClassifier \n",
        "#random forest model creation \n",
        "rfc = RandomForestClassifier() "
      ],
      "execution_count": 86,
      "outputs": []
    },
    {
      "cell_type": "code",
      "metadata": {
        "id": "8ygjDk7DLaaq",
        "outputId": "8cc416dd-bdeb-4053-edc7-f99df2a8d0af",
        "colab": {
          "base_uri": "https://localhost:8080/"
        }
      },
      "source": [
        "rfc.fit(X_train_smote, y_train_smote)"
      ],
      "execution_count": 87,
      "outputs": [
        {
          "output_type": "execute_result",
          "data": {
            "text/plain": [
              "RandomForestClassifier(bootstrap=True, ccp_alpha=0.0, class_weight=None,\n",
              "                       criterion='gini', max_depth=None, max_features='auto',\n",
              "                       max_leaf_nodes=None, max_samples=None,\n",
              "                       min_impurity_decrease=0.0, min_impurity_split=None,\n",
              "                       min_samples_leaf=1, min_samples_split=2,\n",
              "                       min_weight_fraction_leaf=0.0, n_estimators=100,\n",
              "                       n_jobs=None, oob_score=False, random_state=None,\n",
              "                       verbose=0, warm_start=False)"
            ]
          },
          "metadata": {
            "tags": []
          },
          "execution_count": 87
        }
      ]
    },
    {
      "cell_type": "code",
      "metadata": {
        "id": "f7fMYYjzLqfl"
      },
      "source": [
        "y_train_pred_smote_rfc = rfc.predict(X_train_smote)\n",
        "y_test_RFC_smote =rfc.predict(X_test)\n",
        "pred_prob_rfc =rfc.predict_proba(X_test)[:,1]\n",
        "pred_prob_train_rfc= rfc.predict_proba(X_train_smote)[:,1]"
      ],
      "execution_count": 88,
      "outputs": []
    },
    {
      "cell_type": "code",
      "metadata": {
        "id": "4LTrTRLpL9Bq",
        "outputId": "9eb6327a-d174-4147-b1cc-05ce9eae18e5",
        "colab": {
          "base_uri": "https://localhost:8080/"
        }
      },
      "source": [
        "print(classification_report(y_train_smote, y_train_pred_smote_rfc))\n",
        "print('Confusion Matrix - Training Dataset')\n",
        "print(pd.crosstab(y_train_smote, y_train_pred_smote_rfc, rownames = ['True'], colnames = ['Predicted'], margins = True))"
      ],
      "execution_count": 89,
      "outputs": [
        {
          "output_type": "stream",
          "text": [
            "              precision    recall  f1-score   support\n",
            "\n",
            "           0       1.00      1.00      1.00    213236\n",
            "           1       1.00      1.00      1.00    213236\n",
            "\n",
            "    accuracy                           1.00    426472\n",
            "   macro avg       1.00      1.00      1.00    426472\n",
            "weighted avg       1.00      1.00      1.00    426472\n",
            "\n",
            "Confusion Matrix - Training Dataset\n",
            "Predicted       0       1     All\n",
            "True                             \n",
            "0          213236       0  213236\n",
            "1               0  213236  213236\n",
            "All        213236  213236  426472\n"
          ],
          "name": "stdout"
        }
      ]
    },
    {
      "cell_type": "code",
      "metadata": {
        "id": "bvc9SehyL_Pv",
        "outputId": "4f07df40-3e12-479f-8b7c-c4c4db9a6e14",
        "colab": {
          "base_uri": "https://localhost:8080/"
        }
      },
      "source": [
        "print(classification_report(y_test, y_test_RFC_smote))\n",
        "print('Confusion Matrix - Training Dataset')\n",
        "print(pd.crosstab(y_test, y_test_RFC_smote, rownames = ['True'], colnames = ['Predicted'], margins = True))"
      ],
      "execution_count": 90,
      "outputs": [
        {
          "output_type": "stream",
          "text": [
            "              precision    recall  f1-score   support\n",
            "\n",
            "           0       1.00      1.00      1.00     71079\n",
            "           1       0.93      0.80      0.86       123\n",
            "\n",
            "    accuracy                           1.00     71202\n",
            "   macro avg       0.96      0.90      0.93     71202\n",
            "weighted avg       1.00      1.00      1.00     71202\n",
            "\n",
            "Confusion Matrix - Training Dataset\n",
            "Predicted      0    1    All\n",
            "True                        \n",
            "0          71071    8  71079\n",
            "1             24   99    123\n",
            "All        71095  107  71202\n"
          ],
          "name": "stdout"
        }
      ]
    },
    {
      "cell_type": "code",
      "metadata": {
        "id": "HBo63fsWMHAT",
        "outputId": "05afc339-456b-4ad5-e72b-a1153cb627c9",
        "colab": {
          "base_uri": "https://localhost:8080/"
        }
      },
      "source": [
        "roc_auc_score(y_test, pred_prob_rfc)"
      ],
      "execution_count": 91,
      "outputs": [
        {
          "output_type": "execute_result",
          "data": {
            "text/plain": [
              "0.9597768062262568"
            ]
          },
          "metadata": {
            "tags": []
          },
          "execution_count": 91
        }
      ]
    },
    {
      "cell_type": "code",
      "metadata": {
        "id": "bd-ALBaSMJm2",
        "outputId": "570978d4-3ecf-4774-bf7c-84b14f83d40a",
        "colab": {
          "base_uri": "https://localhost:8080/",
          "height": 295
        }
      },
      "source": [
        "fpr, tpr, thresholds = roc_curve(y_test.ravel(),pred_prob_rfc)\n",
        "roc_auc = auc(fpr,tpr)\n",
        "\n",
        "# Plot ROC\n",
        "plt.title('Receiver Operating Characteristic')\n",
        "plt.plot(fpr, tpr, 'b',label='AUC = %0.2f'% roc_auc)\n",
        "plt.legend(loc='lower right')\n",
        "plt.plot([0,1],[0,1],'r--')\n",
        "plt.xlim([-0.1,1.0])\n",
        "plt.ylim([-0.1,1.01])\n",
        "plt.ylabel('True Positive Rate')\n",
        "plt.xlabel('False Positive Rate')\n",
        "plt.show()"
      ],
      "execution_count": 92,
      "outputs": [
        {
          "output_type": "display_data",
          "data": {
            "image/png": "[encoded data removed]",
            "text/plain": [
              "<Figure size 432x288 with 1 Axes>"
            ]
          },
          "metadata": {
            "tags": [],
            "needs_background": "light"
          }
        }
      ]
    }
  ]
}